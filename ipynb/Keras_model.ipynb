{
 "cells": [
  {
   "cell_type": "code",
   "execution_count": 6,
   "metadata": {},
   "outputs": [],
   "source": [
    "import keras\n",
    "\n",
    "from keras import Model\n",
    "from keras.layers import Conv2D, MaxPool2D, BatchNormalization, Input\n",
    "from keras.layers import SeparableConv2D, MaxPool1D,AveragePooling2D,AveragePooling1D,GlobalAveragePooling2D\n",
    "from keras.layers import CuDNNGRU as GRU\n",
    "from keras.layers import CuDNNLSTM as LSTM\n",
    "from keras.layers import Reshape, Bidirectional, Flatten, Dense, Permute, Multiply, Average\n",
    "from keras.preprocessing import image\n",
    "\n",
    "import tqdm\n",
    "import os\n",
    "import time\n",
    "import numpy as np\n",
    "import json\n",
    "\n",
    "\n",
    "data_root = '/home/philip/data/Keyword_spot/'"
   ]
  },
  {
   "cell_type": "code",
   "execution_count": 3,
   "metadata": {},
   "outputs": [
    {
     "name": "stdout",
     "output_type": "stream",
     "text": [
      "Found 68606 images belonging to 31 classes.\n"
     ]
    }
   ],
   "source": [
    "batch_size = 64\n",
    "\n",
    "training_data_gen = image.ImageDataGenerator(width_shift_range=0.1)\n",
    "training_gen = training_data_gen.flow_from_directory(data_root + \"train/original_all\", class_mode=\"categorical\",\n",
    "                                                     target_size=(128, 63),\n",
    "                                                     batch_size=batch_size,\n",
    "                                                     color_mode=\"grayscale\")"
   ]
  },
  {
   "cell_type": "code",
   "execution_count": null,
   "metadata": {},
   "outputs": [],
   "source": [
    "import tensorflow as tf\n",
    "sess = tf.InteractiveSession()\n",
    "\n",
    "from keras import backend as K\n",
    "K.set_session(sess)"
   ]
  },
  {
   "cell_type": "code",
   "execution_count": null,
   "metadata": {},
   "outputs": [],
   "source": []
  },
  {
   "cell_type": "code",
   "execution_count": 15,
   "metadata": {},
   "outputs": [],
   "source": [
    "conv_size = (7, 7)\n",
    "conv_filter = [96, 192, 256, 256]\n",
    "dilation = [4, 4, 4, 4]\n",
    "RNN_Layer = [GRU, LSTM][1]\n",
    "RNN_repeat = 0\n",
    "class_num = training_gen.num_classes\n",
    "attention = False\n",
    "incept_conv_size = [(1,1),(7,7),(3,5),(5,3)]\n",
    "\n",
    "def incept_block(inputs,filters):\n",
    "    a = [SeparableConv2D(filters,size,padding='same',activation='relu')(inputs) for size in incept_conv_size]\n",
    "    b = Average()(a)\n",
    "    return b\n",
    "def SE_block(inputs,filters):\n",
    "    x = GlobalAveragePooling2D()(inputs)\n",
    "    x = Dense(filters//8,activation='relu')(x)\n",
    "    x = Dense(filters,activation='sigmoid')(x)\n",
    "    x = Multiply()([inputs,x])\n",
    "    return x\n",
    "\n",
    "def get_model():\n",
    "    inputs = Input((128, 63, 1))\n",
    "    # x = Conv2D(conv_filter[0], conv_size,\n",
    "    #            padding='same', dilation_rate=dilation[0])(inputs)\n",
    "    x = incept_block(inputs,conv_filter[0])\n",
    "    x = SE_block(x,conv_filter[0])\n",
    "    x = BatchNormalization()(x)\n",
    "    x = MaxPool2D((4, 1))(x)\n",
    "    # x = Conv2D(conv_filter[1], conv_size, padding='same',\n",
    "    #            dilation_rate=dilation[1])(x)\n",
    "    x = incept_block(x,conv_filter[1])\n",
    "    x = SE_block(x,conv_filter[1])\n",
    "    x = BatchNormalization()(x)\n",
    "    x = MaxPool2D((4, 1))(x)\n",
    "\n",
    "    # x = Conv2D(conv_filter[2], conv_size, padding='same',\n",
    "    #            dilation_rate=dilation[2])(x)\n",
    "    x = incept_block(x,conv_filter[2])\n",
    "    x = SE_block(x,conv_filter[2])\n",
    "\n",
    "    x = BatchNormalization()(x)\n",
    "    x = MaxPool2D((4, 1))(x)\n",
    "\n",
    "    x = Conv2D(conv_filter[3], conv_size, padding='same',\n",
    "               dilation_rate=dilation[3])(x)\n",
    "#     x = incept_block(x,conv_filter[3])\n",
    "#     x = SE_block(x,conv_filter[3])\n",
    "\n",
    "    x = BatchNormalization()(x)\n",
    "    x = MaxPool2D((2, 1))(x)\n",
    "    x = Reshape((63, conv_filter[-1]))(x)\n",
    "    for i in range(RNN_repeat):\n",
    "        x = Bidirectional(\n",
    "            RNN_Layer(conv_filter[-1], return_sequences=True), merge_mode='ave')(x)\n",
    "\n",
    "    if attention:\n",
    "        a = Permute((2, 1))(x)\n",
    "        a = Dense(63, activation='softmax', input_dim=(63,))(a)\n",
    "        a = Permute((2, 1))(a)\n",
    "        x = Multiply()([x, a])\n",
    "\n",
    "    o = MaxPool1D(63)(x)\n",
    "    o = Flatten()(o)\n",
    "    output = Dense(class_num, activation='softmax')(o)\n",
    "    return Model(inputs, output)"
   ]
  },
  {
   "cell_type": "code",
   "execution_count": 16,
   "metadata": {},
   "outputs": [],
   "source": [
    "model = get_model()"
   ]
  },
  {
   "cell_type": "code",
   "execution_count": 17,
   "metadata": {},
   "outputs": [
    {
     "name": "stdout",
     "output_type": "stream",
     "text": [
      "__________________________________________________________________________________________________\n",
      "Layer (type)                    Output Shape         Param #     Connected to                     \n",
      "==================================================================================================\n",
      "input_5 (InputLayer)            (None, 128, 63, 1)   0                                            \n",
      "__________________________________________________________________________________________________\n",
      "separable_conv2d_29 (SeparableC (None, 128, 63, 96)  193         input_5[0][0]                    \n",
      "__________________________________________________________________________________________________\n",
      "separable_conv2d_30 (SeparableC (None, 128, 63, 96)  241         input_5[0][0]                    \n",
      "__________________________________________________________________________________________________\n",
      "separable_conv2d_31 (SeparableC (None, 128, 63, 96)  207         input_5[0][0]                    \n",
      "__________________________________________________________________________________________________\n",
      "separable_conv2d_32 (SeparableC (None, 128, 63, 96)  207         input_5[0][0]                    \n",
      "__________________________________________________________________________________________________\n",
      "average_8 (Average)             (None, 128, 63, 96)  0           separable_conv2d_29[0][0]        \n",
      "                                                                 separable_conv2d_30[0][0]        \n",
      "                                                                 separable_conv2d_31[0][0]        \n",
      "                                                                 separable_conv2d_32[0][0]        \n",
      "__________________________________________________________________________________________________\n",
      "global_average_pooling2d_4 (Glo (None, 96)           0           average_8[0][0]                  \n",
      "__________________________________________________________________________________________________\n",
      "dense_8 (Dense)                 (None, 12)           1164        global_average_pooling2d_4[0][0] \n",
      "__________________________________________________________________________________________________\n",
      "dense_9 (Dense)                 (None, 96)           1248        dense_8[0][0]                    \n",
      "__________________________________________________________________________________________________\n",
      "multiply_4 (Multiply)           (None, 128, 63, 96)  0           average_8[0][0]                  \n",
      "                                                                 dense_9[0][0]                    \n",
      "__________________________________________________________________________________________________\n",
      "batch_normalization_5 (BatchNor (None, 128, 63, 96)  384         multiply_4[0][0]                 \n",
      "__________________________________________________________________________________________________\n",
      "max_pooling2d_5 (MaxPooling2D)  (None, 32, 63, 96)   0           batch_normalization_5[0][0]      \n",
      "__________________________________________________________________________________________________\n",
      "separable_conv2d_33 (SeparableC (None, 32, 63, 192)  18720       max_pooling2d_5[0][0]            \n",
      "__________________________________________________________________________________________________\n",
      "separable_conv2d_34 (SeparableC (None, 32, 63, 192)  23328       max_pooling2d_5[0][0]            \n",
      "__________________________________________________________________________________________________\n",
      "separable_conv2d_35 (SeparableC (None, 32, 63, 192)  20064       max_pooling2d_5[0][0]            \n",
      "__________________________________________________________________________________________________\n",
      "separable_conv2d_36 (SeparableC (None, 32, 63, 192)  20064       max_pooling2d_5[0][0]            \n",
      "__________________________________________________________________________________________________\n",
      "average_9 (Average)             (None, 32, 63, 192)  0           separable_conv2d_33[0][0]        \n",
      "                                                                 separable_conv2d_34[0][0]        \n",
      "                                                                 separable_conv2d_35[0][0]        \n",
      "                                                                 separable_conv2d_36[0][0]        \n",
      "__________________________________________________________________________________________________\n",
      "batch_normalization_6 (BatchNor (None, 32, 63, 192)  768         average_9[0][0]                  \n",
      "__________________________________________________________________________________________________\n",
      "max_pooling2d_6 (MaxPooling2D)  (None, 8, 63, 192)   0           batch_normalization_6[0][0]      \n",
      "__________________________________________________________________________________________________\n",
      "separable_conv2d_37 (SeparableC (None, 8, 63, 256)   49600       max_pooling2d_6[0][0]            \n",
      "__________________________________________________________________________________________________\n",
      "separable_conv2d_38 (SeparableC (None, 8, 63, 256)   58816       max_pooling2d_6[0][0]            \n",
      "__________________________________________________________________________________________________\n",
      "separable_conv2d_39 (SeparableC (None, 8, 63, 256)   52288       max_pooling2d_6[0][0]            \n",
      "__________________________________________________________________________________________________\n",
      "separable_conv2d_40 (SeparableC (None, 8, 63, 256)   52288       max_pooling2d_6[0][0]            \n",
      "__________________________________________________________________________________________________\n",
      "average_10 (Average)            (None, 8, 63, 256)   0           separable_conv2d_37[0][0]        \n",
      "                                                                 separable_conv2d_38[0][0]        \n",
      "                                                                 separable_conv2d_39[0][0]        \n",
      "                                                                 separable_conv2d_40[0][0]        \n",
      "__________________________________________________________________________________________________\n",
      "batch_normalization_7 (BatchNor (None, 8, 63, 256)   1024        average_10[0][0]                 \n",
      "__________________________________________________________________________________________________\n",
      "max_pooling2d_7 (MaxPooling2D)  (None, 2, 63, 256)   0           batch_normalization_7[0][0]      \n",
      "__________________________________________________________________________________________________\n",
      "separable_conv2d_41 (SeparableC (None, 2, 63, 256)   66048       max_pooling2d_7[0][0]            \n",
      "__________________________________________________________________________________________________\n",
      "separable_conv2d_42 (SeparableC (None, 2, 63, 256)   78336       max_pooling2d_7[0][0]            \n",
      "__________________________________________________________________________________________________\n",
      "separable_conv2d_43 (SeparableC (None, 2, 63, 256)   69632       max_pooling2d_7[0][0]            \n",
      "__________________________________________________________________________________________________\n",
      "separable_conv2d_44 (SeparableC (None, 2, 63, 256)   69632       max_pooling2d_7[0][0]            \n",
      "__________________________________________________________________________________________________\n",
      "average_11 (Average)            (None, 2, 63, 256)   0           separable_conv2d_41[0][0]        \n",
      "                                                                 separable_conv2d_42[0][0]        \n",
      "                                                                 separable_conv2d_43[0][0]        \n",
      "                                                                 separable_conv2d_44[0][0]        \n",
      "__________________________________________________________________________________________________\n",
      "batch_normalization_8 (BatchNor (None, 2, 63, 256)   1024        average_11[0][0]                 \n",
      "__________________________________________________________________________________________________\n",
      "max_pooling2d_8 (MaxPooling2D)  (None, 1, 63, 256)   0           batch_normalization_8[0][0]      \n",
      "__________________________________________________________________________________________________\n",
      "reshape_2 (Reshape)             (None, 63, 256)      0           max_pooling2d_8[0][0]            \n",
      "__________________________________________________________________________________________________\n",
      "bidirectional_5 (Bidirectional) (None, 63, 256)      1052672     reshape_2[0][0]                  \n",
      "__________________________________________________________________________________________________\n",
      "bidirectional_6 (Bidirectional) (None, 63, 256)      1052672     bidirectional_5[0][0]            \n",
      "__________________________________________________________________________________________________\n",
      "bidirectional_7 (Bidirectional) (None, 63, 256)      1052672     bidirectional_6[0][0]            \n",
      "__________________________________________________________________________________________________\n",
      "bidirectional_8 (Bidirectional) (None, 63, 256)      1052672     bidirectional_7[0][0]            \n",
      "__________________________________________________________________________________________________\n",
      "max_pooling1d_2 (MaxPooling1D)  (None, 1, 256)       0           bidirectional_8[0][0]            \n",
      "__________________________________________________________________________________________________\n",
      "flatten_2 (Flatten)             (None, 256)          0           max_pooling1d_2[0][0]            \n",
      "__________________________________________________________________________________________________\n",
      "dense_10 (Dense)                (None, 31)           7967        flatten_2[0][0]                  \n",
      "==================================================================================================\n",
      "Total params: 4,803,931\n",
      "Trainable params: 4,802,331\n",
      "Non-trainable params: 1,600\n",
      "__________________________________________________________________________________________________\n"
     ]
    }
   ],
   "source": [
    "model.summary()"
   ]
  },
  {
   "cell_type": "code",
   "execution_count": null,
   "metadata": {},
   "outputs": [],
   "source": [
    "model = keras.applications.MobileNet(include_top=True,weights=None,input_shape=(128,63,1),classes=31,pooling='ave')"
   ]
  },
  {
   "cell_type": "code",
   "execution_count": null,
   "metadata": {},
   "outputs": [],
   "source": [
    "from nasnet import NASNetMobile\n",
    "model = NASNetMobile(include_top=True,weights=None,input_shape=(128,63,1),classes=31,pooling='max')"
   ]
  },
  {
   "cell_type": "code",
   "execution_count": null,
   "metadata": {},
   "outputs": [],
   "source": [
    "# model.summary()"
   ]
  },
  {
   "cell_type": "code",
   "execution_count": null,
   "metadata": {},
   "outputs": [],
   "source": [
    "sgd = keras.optimizers.SGD(lr=0.01, momentum=0.9)\n",
    "adadelta = keras.optimizers.Adadelta(\n",
    "    lr=1, rho=0.95, epsilon=1e-08, decay=0.0)\n",
    "adam = keras.optimizers.Adam()\n",
    "optimizer = [sgd, adadelta, adam][0]\n",
    "\n",
    "model.compile(optimizer=optimizer, loss=keras.losses.categorical_crossentropy,\n",
    "              metrics=[keras.metrics.categorical_accuracy])\n"
   ]
  },
  {
   "cell_type": "code",
   "execution_count": null,
   "metadata": {},
   "outputs": [],
   "source": [
    "# now = time.localtime(time.time())\n",
    "# time_folder = \"%d_%d_%d_%d_%d\" % (\n",
    "#     now.tm_mon, now.tm_mday, now.tm_hour, now.tm_min, now.tm_sec)\n",
    "# print(time_folder)\n",
    "\n",
    "model_name = \"NAS\"\n",
    "model_folder = os.path.join(\n",
    "    \"/home/philip/data/Keyword_spot/saved_model/\", model_name)\n",
    "if not os.path.isdir(model_folder):\n",
    "    os.mkdir(model_folder)"
   ]
  },
  {
   "cell_type": "code",
   "execution_count": null,
   "metadata": {},
   "outputs": [],
   "source": [
    "with open(os.path.join(model_folder,'SUMMARY.txt'),'w') as f:\n",
    "    f.write(str(training_gen.class_indices))"
   ]
  },
  {
   "cell_type": "code",
   "execution_count": null,
   "metadata": {},
   "outputs": [],
   "source": [
    "json_config = model.to_json()\n",
    "with open(os.path.join(model_folder,'config.json'),'w') as json_file:\n",
    "    json.dump(json_config,json_file)"
   ]
  },
  {
   "cell_type": "code",
   "execution_count": null,
   "metadata": {},
   "outputs": [],
   "source": [
    "with open(os.path.join(model_folder,'config.json'),'r') as json_file:\n",
    "    recover = json.load(json_file)\n",
    "model_recover = keras.models.model_from_json(recover)\n",
    "model_recover.load_weights(os.path.join(model_folder,'weight_3.h5'))"
   ]
  },
  {
   "cell_type": "code",
   "execution_count": null,
   "metadata": {},
   "outputs": [],
   "source": [
    "model_recover.compile(optimizer='sgd', loss=keras.losses.categorical_crossentropy,\n",
    "              metrics=[keras.metrics.categorical_accuracy])"
   ]
  },
  {
   "cell_type": "code",
   "execution_count": null,
   "metadata": {
    "scrolled": true
   },
   "outputs": [],
   "source": [
    "# model.compile(optimizer='adam', loss=keras.losses.categorical_crossentropy,\n",
    "#               metrics=[keras.metrics.categorical_accuracy])\n",
    "# model.load_weights(os.path.join(model_folder,'weight_1.h5'))\n",
    "\n",
    "history = model_recover.fit_generator(training_gen, steps_per_epoch=training_gen.n // training_gen.batch_size + 1, epochs=3)"
   ]
  },
  {
   "cell_type": "code",
   "execution_count": null,
   "metadata": {},
   "outputs": [],
   "source": [
    "for i in range(1,6):\n",
    "    print(\"circle %d\" % (i))\n",
    "    history = model_recover.fit_generator(training_gen, steps_per_epoch=training_gen.n // training_gen.batch_size + 1, epochs=10)\n",
    "    model_recover.save_weights(os.path.join(model_folder+\"/weight_%d.h5\")%(i+1))"
   ]
  },
  {
   "cell_type": "code",
   "execution_count": null,
   "metadata": {
    "scrolled": true
   },
   "outputs": [],
   "source": [
    "for i in range(5):\n",
    "    print(\"circle %d\" % (i))\n",
    "    history = model.fit_generator(training_gen, steps_per_epoch=training_gen.n // training_gen.batch_size + 1, epochs=5)\n",
    "    model.save(os.path.join(model_folder,\"NASmobile_%d.h5\"%(i+1)))"
   ]
  },
  {
   "cell_type": "code",
   "execution_count": null,
   "metadata": {
    "scrolled": true
   },
   "outputs": [],
   "source": [
    "model.save(os.path.join(model_folder, \"%s_%d.h5\" % (model_name,(i + 1))))"
   ]
  },
  {
   "cell_type": "code",
   "execution_count": null,
   "metadata": {},
   "outputs": [],
   "source": [
    "model = keras.models.load_model('/home/philip/data/Keyword_spot/saved_model/Incept_like_attention_no_RNN/Incept_like_attention_no_RNN_5.h5')"
   ]
  },
  {
   "cell_type": "code",
   "execution_count": null,
   "metadata": {},
   "outputs": [],
   "source": [
    "import predict_test\n",
    "predict_test.predict_test(model,training_gen.class_indices,0.2)"
   ]
  },
  {
   "cell_type": "code",
   "execution_count": null,
   "metadata": {},
   "outputs": [],
   "source": [
    "model.save(os.path.join(model_folder, \"%s.h5\" % (model_name)))"
   ]
  },
  {
   "cell_type": "code",
   "execution_count": null,
   "metadata": {
    "scrolled": true
   },
   "outputs": [],
   "source": [
    "import predict_test\n",
    "import importlib\n",
    "importlib.reload(predict_test)\n",
    "predict_test.predict_test(model_recover,training_gen.class_indices,0.3)"
   ]
  },
  {
   "cell_type": "code",
   "execution_count": null,
   "metadata": {},
   "outputs": [],
   "source": []
  }
 ],
 "metadata": {
  "kernelspec": {
   "display_name": "Python 3",
   "language": "python",
   "name": "python3"
  },
  "language_info": {
   "codemirror_mode": {
    "name": "ipython",
    "version": 3
   },
   "file_extension": ".py",
   "mimetype": "text/x-python",
   "name": "python",
   "nbconvert_exporter": "python",
   "pygments_lexer": "ipython3",
   "version": "3.6.2"
  }
 },
 "nbformat": 4,
 "nbformat_minor": 2
}
