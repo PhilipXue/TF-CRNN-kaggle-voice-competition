{
 "cells": [
  {
   "cell_type": "code",
   "execution_count": null,
   "metadata": {},
   "outputs": [],
   "source": [
    "import tensorflow as tf\n",
    "import numpy as np\n",
    "import tqdm\n",
    "import glob\n",
    "import os\n",
    "import shutil"
   ]
  },
  {
   "cell_type": "code",
   "execution_count": null,
   "metadata": {},
   "outputs": [],
   "source": [
    "import librosa\n",
    "import keras\n",
    "from keras.layers import Conv2D,MaxPool2D,BatchNormalization,Input,Activation,MaxPool1D,Conv1D\n",
    "from keras.layers import CuDNNGRU as GRU\n",
    "from keras.layers import CuDNNLSTM as LSTM\n",
    "from keras.layers import Reshape, Bidirectional,Flatten,Dense,InputLayer,Permute,Multiply"
   ]
  },
  {
   "cell_type": "code",
   "execution_count": 3,
   "metadata": {},
   "outputs": [],
   "source": [
    "data_root = \"/home/philip/data/Keyword_spot/\""
   ]
  },
  {
   "cell_type": "code",
   "execution_count": 4,
   "metadata": {},
   "outputs": [],
   "source": [
    "class_indices = {\n",
    "'bed': 0, 'bird': 1, 'cat': 2, 'dog': 3, 'down': 4, 'eight': 5, 'five': 6, 'four': 7, 'go': 8, 'happy': 9, 'house': 10, 'left': 11,\n",
    " 'marvin': 12, 'nine': 13, 'no': 14, 'off': 15, 'on': 16, 'one': 17, 'right': 18, 'seven': 19, 'sheila': 20, 'six': 21, 'stop': 22,\n",
    " 'three': 23, 'tree': 24, 'two': 25, 'up': 26, 'wow': 27, 'yes': 28, 'zero': 29}"
   ]
  },
  {
   "cell_type": "code",
   "execution_count": 5,
   "metadata": {},
   "outputs": [],
   "source": [
    "class_num=len(class_indices)"
   ]
  },
  {
   "cell_type": "code",
   "execution_count": 6,
   "metadata": {
    "scrolled": true
   },
   "outputs": [],
   "source": [
    "from keras import backend as K\n",
    "\n",
    "K.set_learning_phase(1)"
   ]
  },
  {
   "cell_type": "code",
   "execution_count": 7,
   "metadata": {},
   "outputs": [],
   "source": [
    "all_class_file = glob.glob(data_root+\"train/audio/***/*.wav\")\n",
    "all_silence_file = glob.glob(data_root+\"train/silence/*.wav\")+glob.glob(data_root+\"train/silence_bg/*.wav\")"
   ]
  },
  {
   "cell_type": "code",
   "execution_count": 8,
   "metadata": {},
   "outputs": [],
   "source": [
    "def get_seq_from_filename(filename):\n",
    "    try:\n",
    "        y,sr = librosa.load(filename,sr=16000)\n",
    "    except:\n",
    "        print(filename)\n",
    "    if len(y)<16000:\n",
    "        pad_with = (16000-len(y))//2+1\n",
    "        y = np.pad(y,pad_with,'constant')[:16000]\n",
    "    return y"
   ]
  },
  {
   "cell_type": "code",
   "execution_count": 9,
   "metadata": {},
   "outputs": [],
   "source": [
    "def get_label_from_filename(full_filename):\n",
    "    dirname = os.path.dirname(full_filename)\n",
    "    label = dirname.split(\"/\")[-1]\n",
    "    label_indice = class_indices[label]\n",
    "    one_hot_encode = keras.utils.to_categorical(label_indice,len(class_indices))\n",
    "    return one_hot_encode"
   ]
  },
  {
   "cell_type": "code",
   "execution_count": 10,
   "metadata": {},
   "outputs": [],
   "source": [
    "class_label = np.squeeze(np.array([get_label_from_filename(_) for _ in all_class_file],np.float32))\n",
    "all_class_file = np.array(all_class_file)\n",
    "non_silence_label = np.ones_like(all_class_file,np.float32)\n",
    "non_silence_label = np.expand_dims(non_silence_label,1)\n",
    "silence_label_cls = np.zeros((len(all_silence_file),class_num),np.float32)\n",
    "all_silence_file = np.array(all_silence_file)\n",
    "silence_label_bin = np.zeros_like(all_silence_file,np.float32)\n",
    "silence_label_bin = np.expand_dims(silence_label_bin,1)"
   ]
  },
  {
   "cell_type": "code",
   "execution_count": 11,
   "metadata": {},
   "outputs": [],
   "source": [
    "# all_class_file = np.array(list(map(get_seq_from_filename,all_class_file)),np.float32)\n",
    "# all_silence_file = np.array(list(map(get_seq_from_filename,all_silence_file)),np.float32)"
   ]
  },
  {
   "cell_type": "code",
   "execution_count": 12,
   "metadata": {},
   "outputs": [],
   "source": [
    "# binary_class_dataset_audio = tf.data.Dataset.from_tensor_slices(all_training_file)\n",
    "# binary_class_dataset_silence = tf.data.Dataset.from_tensor_slices(all_silence_file)"
   ]
  },
  {
   "cell_type": "code",
   "execution_count": 13,
   "metadata": {
    "scrolled": true
   },
   "outputs": [],
   "source": [
    "class_data_set = tf.data.Dataset.from_tensor_slices((all_class_file,class_label, non_silence_label))\n",
    "silence_data_set = tf.data.Dataset.from_tensor_slices((all_silence_file,silence_label_cls,silence_label_bin))"
   ]
  },
  {
   "cell_type": "code",
   "execution_count": 14,
   "metadata": {},
   "outputs": [],
   "source": [
    "def get_sequence_from_file(filename,class_label,binary_label):\n",
    "    data = tf.read_file(filename)\n",
    "    audio_seq = tf.contrib.ffmpeg.decode_audio(data,file_format='wav',samples_per_second=16000,channel_count=1)\n",
    "    pad = tf.concat([audio_seq, tf.zeros((16000,1))],0)[:16000] \n",
    "    return pad,class_label,binary_label"
   ]
  },
  {
   "cell_type": "code",
   "execution_count": 15,
   "metadata": {},
   "outputs": [],
   "source": [
    "batch_size = 128\n",
    "class_batch_size = int(batch_size*0.75)\n",
    "silence_batch_size = int(batch_size*0.25)"
   ]
  },
  {
   "cell_type": "code",
   "execution_count": 16,
   "metadata": {},
   "outputs": [],
   "source": [
    "class_data_set = class_data_set.map(get_sequence_from_file,num_parallel_calls=6)\n",
    "silence_data_set = silence_data_set.map(get_sequence_from_file,num_parallel_calls=6)\n",
    "class_data_set = class_data_set.shuffle(buffer_size=6400).batch(class_batch_size).repeat()\n",
    "silence_data_set = silence_data_set.shuffle(buffer_size=1600).batch(silence_batch_size).repeat()\n",
    "next_batch_class = class_data_set.make_one_shot_iterator().get_next()\n",
    "next_batch_silence = silence_data_set.make_one_shot_iterator().get_next()"
   ]
  },
  {
   "cell_type": "code",
   "execution_count": 17,
   "metadata": {},
   "outputs": [],
   "source": [
    "class_data_set = class_data_set.batch(class_batch_size)\n",
    "silence_data_set = silence_data_set.batch(silence_batch_size)"
   ]
  },
  {
   "cell_type": "code",
   "execution_count": 18,
   "metadata": {},
   "outputs": [],
   "source": [
    "next_batch = [tf.concat((a,b),0) for a,b in zip(next_batch_class,next_batch_silence)]"
   ]
  },
  {
   "cell_type": "code",
   "execution_count": 48,
   "metadata": {},
   "outputs": [],
   "source": [
    "def conv_1d_model(inputs):\n",
    "    x = Conv1D(128,512,padding='same',activation='relu', dilation_rate=4)(inputs)\n",
    "    x = BatchNormalization()(x)\n",
    "    x = MaxPool1D(pool_size=(20),strides=10)(x)\n",
    "    x = Conv1D(256,256,padding='same', activation='relu',dilation_rate=4)(x)\n",
    "    x = BatchNormalization()(x)\n",
    "    x = MaxPool1D(pool_size=(20),strides=10)(x)\n",
    "    x = Bidirectional(LSTM(256,return_sequences=True),merge_mode='ave')(x)\n",
    "    x = Bidirectional(LSTM(256,return_sequences=True),merge_mode='ave')(x)    \n",
    "    a = Permute((2,1))(x)\n",
    "    a = Dense(158, activation='softmax',input_dim=(158))(a)\n",
    "    a = Permute((2,1))(a)\n",
    "    x = Multiply()([x,a])\n",
    "    o = MaxPool1D(158)(x)\n",
    "    o = Flatten()(o)\n",
    "    return o\n",
    "\n",
    "def build_multi_task(input_sequence,class_label,binary_label):\n",
    "    flatten_last = conv_1d_model(input_sequence)\n",
    "    binary_head = Dense(1,activation='sigmoid')(flatten_last)\n",
    "    class_head = Dense(30,activation='softmax')(flatten_last)\n",
    "    class_loss = keras.losses.categorical_crossentropy(class_label,class_head)\n",
    "    binary_loss = keras.losses.binary_crossentropy(binary_label,binary_head)\n",
    "    total_loss = tf.reduce_mean(binary_label*class_loss+binary_loss)\n",
    "    return total_loss"
   ]
  },
  {
   "cell_type": "code",
   "execution_count": 49,
   "metadata": {},
   "outputs": [],
   "source": [
    "input_sequence = tf.placeholder(tf.float32,[None,16000,1])\n",
    "class_label = tf.placeholder(tf.float32,[None,30])\n",
    "binary_label = tf.placeholder(tf.float32,[None,1])"
   ]
  },
  {
   "cell_type": "code",
   "execution_count": 50,
   "metadata": {
    "scrolled": false
   },
   "outputs": [],
   "source": [
    "total_loss = build_multi_task(input_sequence,class_label,binary_label)\n",
    "# total_loss = build_multi_task(*next_batch)"
   ]
  },
  {
   "cell_type": "code",
   "execution_count": 51,
   "metadata": {},
   "outputs": [],
   "source": [
    "# train_op = tf.train.AdamOptimizer().minimize(total_loss)\n",
    "train_op = tf.train.GradientDescentOptimizer(1e-3).minimize(total_loss)"
   ]
  },
  {
   "cell_type": "code",
   "execution_count": 52,
   "metadata": {},
   "outputs": [],
   "source": [
    "sess = tf.InteractiveSession()\n",
    "init_op = tf.global_variables_initializer()\n",
    "sess.run(init_op)"
   ]
  },
  {
   "cell_type": "code",
   "execution_count": 53,
   "metadata": {},
   "outputs": [],
   "source": [
    "losses = []"
   ]
  },
  {
   "cell_type": "code",
   "execution_count": 54,
   "metadata": {
    "scrolled": true
   },
   "outputs": [
    {
     "data": {
      "application/vnd.jupyter.widget-view+json": {
       "model_id": "9935beaaa8674443a7a00b2ef9684ebe",
       "version_major": 2,
       "version_minor": 0
      },
      "text/html": [
       "<p>Failed to display Jupyter Widget of type <code>HBox</code>.</p>\n",
       "<p>\n",
       "  If you're reading this message in the Jupyter Notebook or JupyterLab Notebook, it may mean\n",
       "  that the widgets JavaScript is still loading. If this message persists, it\n",
       "  likely means that the widgets JavaScript library is either not installed or\n",
       "  not enabled. See the <a href=\"https://ipywidgets.readthedocs.io/en/stable/user_install.html\">Jupyter\n",
       "  Widgets Documentation</a> for setup instructions.\n",
       "</p>\n",
       "<p>\n",
       "  If you're reading this message in another frontend (for example, a static\n",
       "  rendering on GitHub or <a href=\"https://nbviewer.jupyter.org/\">NBViewer</a>),\n",
       "  it may mean that your frontend doesn't currently support widgets.\n",
       "</p>\n"
      ],
      "text/plain": [
       "HBox(children=(IntProgress(value=0, max=600), HTML(value='')))"
      ]
     },
     "metadata": {},
     "output_type": "display_data"
    },
    {
     "ename": "InvalidArgumentError",
     "evalue": "ConcatOp : Dimensions of inputs should match: shape[0] = [0,0] vs. shape[1] = [16000,1]\n\t [[Node: concat = ConcatV2[N=2, T=DT_FLOAT, Tidx=DT_INT32](DecodeAudioV2, zeros, concat/axis)]]\n\t [[Node: IteratorGetNext_1 = IteratorGetNext[output_shapes=[[?,?,1], [?,30], [?,1]], output_types=[DT_FLOAT, DT_FLOAT, DT_FLOAT], _device=\"/job:localhost/replica:0/task:0/device:CPU:0\"](OneShotIterator_1)]]\n\t [[Node: IteratorGetNext_1/_11 = _Recv[client_terminated=false, recv_device=\"/job:localhost/replica:0/task:0/device:GPU:0\", send_device=\"/job:localhost/replica:0/task:0/device:CPU:0\", send_device_incarnation=1, tensor_name=\"edge_12_IteratorGetNext_1\", tensor_type=DT_FLOAT, _device=\"/job:localhost/replica:0/task:0/device:GPU:0\"]()]]\n\nCaused by op 'concat', defined at:\n  File \"/home/philip/.conda/envs/py3/lib/python3.6/runpy.py\", line 193, in _run_module_as_main\n    \"__main__\", mod_spec)\n  File \"/home/philip/.conda/envs/py3/lib/python3.6/runpy.py\", line 85, in _run_code\n    exec(code, run_globals)\n  File \"/home/philip/.conda/envs/py3/lib/python3.6/site-packages/ipykernel_launcher.py\", line 16, in <module>\n    app.launch_new_instance()\n  File \"/home/philip/.conda/envs/py3/lib/python3.6/site-packages/traitlets/config/application.py\", line 658, in launch_instance\n    app.start()\n  File \"/home/philip/.conda/envs/py3/lib/python3.6/site-packages/ipykernel/kernelapp.py\", line 478, in start\n    self.io_loop.start()\n  File \"/home/philip/.conda/envs/py3/lib/python3.6/site-packages/zmq/eventloop/ioloop.py\", line 177, in start\n    super(ZMQIOLoop, self).start()\n  File \"/home/philip/.conda/envs/py3/lib/python3.6/site-packages/tornado/ioloop.py\", line 888, in start\n    handler_func(fd_obj, events)\n  File \"/home/philip/.conda/envs/py3/lib/python3.6/site-packages/tornado/stack_context.py\", line 277, in null_wrapper\n    return fn(*args, **kwargs)\n  File \"/home/philip/.conda/envs/py3/lib/python3.6/site-packages/zmq/eventloop/zmqstream.py\", line 440, in _handle_events\n    self._handle_recv()\n  File \"/home/philip/.conda/envs/py3/lib/python3.6/site-packages/zmq/eventloop/zmqstream.py\", line 472, in _handle_recv\n    self._run_callback(callback, msg)\n  File \"/home/philip/.conda/envs/py3/lib/python3.6/site-packages/zmq/eventloop/zmqstream.py\", line 414, in _run_callback\n    callback(*args, **kwargs)\n  File \"/home/philip/.conda/envs/py3/lib/python3.6/site-packages/tornado/stack_context.py\", line 277, in null_wrapper\n    return fn(*args, **kwargs)\n  File \"/home/philip/.conda/envs/py3/lib/python3.6/site-packages/ipykernel/kernelbase.py\", line 281, in dispatcher\n    return self.dispatch_shell(stream, msg)\n  File \"/home/philip/.conda/envs/py3/lib/python3.6/site-packages/ipykernel/kernelbase.py\", line 232, in dispatch_shell\n    handler(stream, idents, msg)\n  File \"/home/philip/.conda/envs/py3/lib/python3.6/site-packages/ipykernel/kernelbase.py\", line 397, in execute_request\n    user_expressions, allow_stdin)\n  File \"/home/philip/.conda/envs/py3/lib/python3.6/site-packages/ipykernel/ipkernel.py\", line 208, in do_execute\n    res = shell.run_cell(code, store_history=store_history, silent=silent)\n  File \"/home/philip/.conda/envs/py3/lib/python3.6/site-packages/ipykernel/zmqshell.py\", line 533, in run_cell\n    return super(ZMQInteractiveShell, self).run_cell(*args, **kwargs)\n  File \"/home/philip/.conda/envs/py3/lib/python3.6/site-packages/IPython/core/interactiveshell.py\", line 2728, in run_cell\n    interactivity=interactivity, compiler=compiler, result=result)\n  File \"/home/philip/.conda/envs/py3/lib/python3.6/site-packages/IPython/core/interactiveshell.py\", line 2850, in run_ast_nodes\n    if self.run_code(code, result):\n  File \"/home/philip/.conda/envs/py3/lib/python3.6/site-packages/IPython/core/interactiveshell.py\", line 2910, in run_code\n    exec(code_obj, self.user_global_ns, self.user_ns)\n  File \"<ipython-input-18-ae6497d9c5dd>\", line 1, in <module>\n    next_batch = [tf.concat((a,b),0) for a,b in zip(next_batch_class,next_batch_silence)]\n  File \"<ipython-input-18-ae6497d9c5dd>\", line 1, in <listcomp>\n    next_batch = [tf.concat((a,b),0) for a,b in zip(next_batch_class,next_batch_silence)]\n  File \"/home/philip/.conda/envs/py3/lib/python3.6/site-packages/tensorflow/python/ops/array_ops.py\", line 1099, in concat\n    return gen_array_ops._concat_v2(values=values, axis=axis, name=name)\n  File \"/home/philip/.conda/envs/py3/lib/python3.6/site-packages/tensorflow/python/ops/gen_array_ops.py\", line 706, in _concat_v2\n    \"ConcatV2\", values=values, axis=axis, name=name)\n  File \"/home/philip/.conda/envs/py3/lib/python3.6/site-packages/tensorflow/python/framework/op_def_library.py\", line 787, in _apply_op_helper\n    op_def=op_def)\n  File \"/home/philip/.conda/envs/py3/lib/python3.6/site-packages/tensorflow/python/framework/ops.py\", line 2956, in create_op\n    op_def=op_def)\n  File \"/home/philip/.conda/envs/py3/lib/python3.6/site-packages/tensorflow/python/framework/ops.py\", line 1470, in __init__\n    self._traceback = self._graph._extract_stack()  # pylint: disable=protected-access\n\nInvalidArgumentError (see above for traceback): ConcatOp : Dimensions of inputs should match: shape[0] = [0,0] vs. shape[1] = [16000,1]\n\t [[Node: concat = ConcatV2[N=2, T=DT_FLOAT, Tidx=DT_INT32](DecodeAudioV2, zeros, concat/axis)]]\n\t [[Node: IteratorGetNext_1 = IteratorGetNext[output_shapes=[[?,?,1], [?,30], [?,1]], output_types=[DT_FLOAT, DT_FLOAT, DT_FLOAT], _device=\"/job:localhost/replica:0/task:0/device:CPU:0\"](OneShotIterator_1)]]\n\t [[Node: IteratorGetNext_1/_11 = _Recv[client_terminated=false, recv_device=\"/job:localhost/replica:0/task:0/device:GPU:0\", send_device=\"/job:localhost/replica:0/task:0/device:CPU:0\", send_device_incarnation=1, tensor_name=\"edge_12_IteratorGetNext_1\", tensor_type=DT_FLOAT, _device=\"/job:localhost/replica:0/task:0/device:GPU:0\"]()]]\n",
     "output_type": "error",
     "traceback": [
      "\u001b[0;31m---------------------------------------------------------------------------\u001b[0m",
      "\u001b[0;31mKeyboardInterrupt\u001b[0m                         Traceback (most recent call last)",
      "\u001b[0;32m~/.conda/envs/py3/lib/python3.6/site-packages/tensorflow/python/client/session.py\u001b[0m in \u001b[0;36m_run_fn\u001b[0;34m(session, feed_dict, fetch_list, target_list, options, run_metadata)\u001b[0m\n\u001b[1;32m   1301\u001b[0m                                    \u001b[0mfeed_dict\u001b[0m\u001b[0;34m,\u001b[0m \u001b[0mfetch_list\u001b[0m\u001b[0;34m,\u001b[0m \u001b[0mtarget_list\u001b[0m\u001b[0;34m,\u001b[0m\u001b[0;34m\u001b[0m\u001b[0m\n\u001b[0;32m-> 1302\u001b[0;31m                                    status, run_metadata)\n\u001b[0m\u001b[1;32m   1303\u001b[0m \u001b[0;34m\u001b[0m\u001b[0m\n",
      "\u001b[0;31mKeyboardInterrupt\u001b[0m: ",
      "\nDuring handling of the above exception, another exception occurred:\n",
      "\u001b[0;31mInvalidArgumentError\u001b[0m                      Traceback (most recent call last)",
      "\u001b[0;32m~/.conda/envs/py3/lib/python3.6/site-packages/tensorflow/python/client/session.py\u001b[0m in \u001b[0;36m_do_call\u001b[0;34m(self, fn, *args)\u001b[0m\n\u001b[1;32m   1322\u001b[0m     \u001b[0;32mtry\u001b[0m\u001b[0;34m:\u001b[0m\u001b[0;34m\u001b[0m\u001b[0m\n\u001b[0;32m-> 1323\u001b[0;31m       \u001b[0;32mreturn\u001b[0m \u001b[0mfn\u001b[0m\u001b[0;34m(\u001b[0m\u001b[0;34m*\u001b[0m\u001b[0margs\u001b[0m\u001b[0;34m)\u001b[0m\u001b[0;34m\u001b[0m\u001b[0m\n\u001b[0m\u001b[1;32m   1324\u001b[0m     \u001b[0;32mexcept\u001b[0m \u001b[0merrors\u001b[0m\u001b[0;34m.\u001b[0m\u001b[0mOpError\u001b[0m \u001b[0;32mas\u001b[0m \u001b[0me\u001b[0m\u001b[0;34m:\u001b[0m\u001b[0;34m\u001b[0m\u001b[0m\n",
      "\u001b[0;32m~/.conda/envs/py3/lib/python3.6/site-packages/tensorflow/python/client/session.py\u001b[0m in \u001b[0;36m_run_fn\u001b[0;34m(session, feed_dict, fetch_list, target_list, options, run_metadata)\u001b[0m\n\u001b[1;32m   1301\u001b[0m                                    \u001b[0mfeed_dict\u001b[0m\u001b[0;34m,\u001b[0m \u001b[0mfetch_list\u001b[0m\u001b[0;34m,\u001b[0m \u001b[0mtarget_list\u001b[0m\u001b[0;34m,\u001b[0m\u001b[0;34m\u001b[0m\u001b[0m\n\u001b[0;32m-> 1302\u001b[0;31m                                    status, run_metadata)\n\u001b[0m\u001b[1;32m   1303\u001b[0m \u001b[0;34m\u001b[0m\u001b[0m\n",
      "\u001b[0;32m~/.conda/envs/py3/lib/python3.6/site-packages/tensorflow/python/framework/errors_impl.py\u001b[0m in \u001b[0;36m__exit__\u001b[0;34m(self, type_arg, value_arg, traceback_arg)\u001b[0m\n\u001b[1;32m    472\u001b[0m             \u001b[0mcompat\u001b[0m\u001b[0;34m.\u001b[0m\u001b[0mas_text\u001b[0m\u001b[0;34m(\u001b[0m\u001b[0mc_api\u001b[0m\u001b[0;34m.\u001b[0m\u001b[0mTF_Message\u001b[0m\u001b[0;34m(\u001b[0m\u001b[0mself\u001b[0m\u001b[0;34m.\u001b[0m\u001b[0mstatus\u001b[0m\u001b[0;34m.\u001b[0m\u001b[0mstatus\u001b[0m\u001b[0;34m)\u001b[0m\u001b[0;34m)\u001b[0m\u001b[0;34m,\u001b[0m\u001b[0;34m\u001b[0m\u001b[0m\n\u001b[0;32m--> 473\u001b[0;31m             c_api.TF_GetCode(self.status.status))\n\u001b[0m\u001b[1;32m    474\u001b[0m     \u001b[0;31m# Delete the underlying status object from memory otherwise it stays alive\u001b[0m\u001b[0;34m\u001b[0m\u001b[0;34m\u001b[0m\u001b[0m\n",
      "\u001b[0;31mInvalidArgumentError\u001b[0m: ConcatOp : Dimensions of inputs should match: shape[0] = [0,0] vs. shape[1] = [16000,1]\n\t [[Node: concat = ConcatV2[N=2, T=DT_FLOAT, Tidx=DT_INT32](DecodeAudioV2, zeros, concat/axis)]]\n\t [[Node: IteratorGetNext_1 = IteratorGetNext[output_shapes=[[?,?,1], [?,30], [?,1]], output_types=[DT_FLOAT, DT_FLOAT, DT_FLOAT], _device=\"/job:localhost/replica:0/task:0/device:CPU:0\"](OneShotIterator_1)]]\n\t [[Node: IteratorGetNext_1/_11 = _Recv[client_terminated=false, recv_device=\"/job:localhost/replica:0/task:0/device:GPU:0\", send_device=\"/job:localhost/replica:0/task:0/device:CPU:0\", send_device_incarnation=1, tensor_name=\"edge_12_IteratorGetNext_1\", tensor_type=DT_FLOAT, _device=\"/job:localhost/replica:0/task:0/device:GPU:0\"]()]]",
      "\nDuring handling of the above exception, another exception occurred:\n",
      "\u001b[0;31mInvalidArgumentError\u001b[0m                      Traceback (most recent call last)",
      "\u001b[0;32m<ipython-input-54-527707239850>\u001b[0m in \u001b[0;36m<module>\u001b[0;34m()\u001b[0m\n\u001b[1;32m      1\u001b[0m \u001b[0;32mfor\u001b[0m \u001b[0mi\u001b[0m \u001b[0;32min\u001b[0m \u001b[0mtqdm\u001b[0m\u001b[0;34m.\u001b[0m\u001b[0mtqdm_notebook\u001b[0m\u001b[0;34m(\u001b[0m\u001b[0mrange\u001b[0m\u001b[0;34m(\u001b[0m\u001b[0;36m600\u001b[0m\u001b[0;34m)\u001b[0m\u001b[0;34m)\u001b[0m\u001b[0;34m:\u001b[0m\u001b[0;34m\u001b[0m\u001b[0m\n\u001b[0;32m----> 2\u001b[0;31m     \u001b[0mbatch_sequence\u001b[0m\u001b[0;34m,\u001b[0m \u001b[0mbatch_class_label\u001b[0m\u001b[0;34m,\u001b[0m\u001b[0mbatch_binary\u001b[0m \u001b[0;34m=\u001b[0m \u001b[0msess\u001b[0m\u001b[0;34m.\u001b[0m\u001b[0mrun\u001b[0m\u001b[0;34m(\u001b[0m\u001b[0mnext_batch\u001b[0m\u001b[0;34m)\u001b[0m\u001b[0;34m\u001b[0m\u001b[0m\n\u001b[0m\u001b[1;32m      3\u001b[0m     loss,_ = sess.run([total_loss,train_op],feed_dict={input_sequence:batch_sequence,\n\u001b[1;32m      4\u001b[0m                                                       \u001b[0mclass_label\u001b[0m\u001b[0;34m:\u001b[0m\u001b[0mbatch_class_label\u001b[0m\u001b[0;34m,\u001b[0m\u001b[0;34m\u001b[0m\u001b[0m\n\u001b[1;32m      5\u001b[0m                                                       binary_label:batch_binary})\n",
      "\u001b[0;32m~/.conda/envs/py3/lib/python3.6/site-packages/tensorflow/python/client/session.py\u001b[0m in \u001b[0;36mrun\u001b[0;34m(self, fetches, feed_dict, options, run_metadata)\u001b[0m\n\u001b[1;32m    887\u001b[0m     \u001b[0;32mtry\u001b[0m\u001b[0;34m:\u001b[0m\u001b[0;34m\u001b[0m\u001b[0m\n\u001b[1;32m    888\u001b[0m       result = self._run(None, fetches, feed_dict, options_ptr,\n\u001b[0;32m--> 889\u001b[0;31m                          run_metadata_ptr)\n\u001b[0m\u001b[1;32m    890\u001b[0m       \u001b[0;32mif\u001b[0m \u001b[0mrun_metadata\u001b[0m\u001b[0;34m:\u001b[0m\u001b[0;34m\u001b[0m\u001b[0m\n\u001b[1;32m    891\u001b[0m         \u001b[0mproto_data\u001b[0m \u001b[0;34m=\u001b[0m \u001b[0mtf_session\u001b[0m\u001b[0;34m.\u001b[0m\u001b[0mTF_GetBuffer\u001b[0m\u001b[0;34m(\u001b[0m\u001b[0mrun_metadata_ptr\u001b[0m\u001b[0;34m)\u001b[0m\u001b[0;34m\u001b[0m\u001b[0m\n",
      "\u001b[0;32m~/.conda/envs/py3/lib/python3.6/site-packages/tensorflow/python/client/session.py\u001b[0m in \u001b[0;36m_run\u001b[0;34m(self, handle, fetches, feed_dict, options, run_metadata)\u001b[0m\n\u001b[1;32m   1118\u001b[0m     \u001b[0;32mif\u001b[0m \u001b[0mfinal_fetches\u001b[0m \u001b[0;32mor\u001b[0m \u001b[0mfinal_targets\u001b[0m \u001b[0;32mor\u001b[0m \u001b[0;34m(\u001b[0m\u001b[0mhandle\u001b[0m \u001b[0;32mand\u001b[0m \u001b[0mfeed_dict_tensor\u001b[0m\u001b[0;34m)\u001b[0m\u001b[0;34m:\u001b[0m\u001b[0;34m\u001b[0m\u001b[0m\n\u001b[1;32m   1119\u001b[0m       results = self._do_run(handle, final_targets, final_fetches,\n\u001b[0;32m-> 1120\u001b[0;31m                              feed_dict_tensor, options, run_metadata)\n\u001b[0m\u001b[1;32m   1121\u001b[0m     \u001b[0;32melse\u001b[0m\u001b[0;34m:\u001b[0m\u001b[0;34m\u001b[0m\u001b[0m\n\u001b[1;32m   1122\u001b[0m       \u001b[0mresults\u001b[0m \u001b[0;34m=\u001b[0m \u001b[0;34m[\u001b[0m\u001b[0;34m]\u001b[0m\u001b[0;34m\u001b[0m\u001b[0m\n",
      "\u001b[0;32m~/.conda/envs/py3/lib/python3.6/site-packages/tensorflow/python/client/session.py\u001b[0m in \u001b[0;36m_do_run\u001b[0;34m(self, handle, target_list, fetch_list, feed_dict, options, run_metadata)\u001b[0m\n\u001b[1;32m   1315\u001b[0m     \u001b[0;32mif\u001b[0m \u001b[0mhandle\u001b[0m \u001b[0;32mis\u001b[0m \u001b[0;32mNone\u001b[0m\u001b[0;34m:\u001b[0m\u001b[0;34m\u001b[0m\u001b[0m\n\u001b[1;32m   1316\u001b[0m       return self._do_call(_run_fn, self._session, feeds, fetches, targets,\n\u001b[0;32m-> 1317\u001b[0;31m                            options, run_metadata)\n\u001b[0m\u001b[1;32m   1318\u001b[0m     \u001b[0;32melse\u001b[0m\u001b[0;34m:\u001b[0m\u001b[0;34m\u001b[0m\u001b[0m\n\u001b[1;32m   1319\u001b[0m       \u001b[0;32mreturn\u001b[0m \u001b[0mself\u001b[0m\u001b[0;34m.\u001b[0m\u001b[0m_do_call\u001b[0m\u001b[0;34m(\u001b[0m\u001b[0m_prun_fn\u001b[0m\u001b[0;34m,\u001b[0m \u001b[0mself\u001b[0m\u001b[0;34m.\u001b[0m\u001b[0m_session\u001b[0m\u001b[0;34m,\u001b[0m \u001b[0mhandle\u001b[0m\u001b[0;34m,\u001b[0m \u001b[0mfeeds\u001b[0m\u001b[0;34m,\u001b[0m \u001b[0mfetches\u001b[0m\u001b[0;34m)\u001b[0m\u001b[0;34m\u001b[0m\u001b[0m\n",
      "\u001b[0;32m~/.conda/envs/py3/lib/python3.6/site-packages/tensorflow/python/client/session.py\u001b[0m in \u001b[0;36m_do_call\u001b[0;34m(self, fn, *args)\u001b[0m\n\u001b[1;32m   1334\u001b[0m         \u001b[0;32mexcept\u001b[0m \u001b[0mKeyError\u001b[0m\u001b[0;34m:\u001b[0m\u001b[0;34m\u001b[0m\u001b[0m\n\u001b[1;32m   1335\u001b[0m           \u001b[0;32mpass\u001b[0m\u001b[0;34m\u001b[0m\u001b[0m\n\u001b[0;32m-> 1336\u001b[0;31m       \u001b[0;32mraise\u001b[0m \u001b[0mtype\u001b[0m\u001b[0;34m(\u001b[0m\u001b[0me\u001b[0m\u001b[0;34m)\u001b[0m\u001b[0;34m(\u001b[0m\u001b[0mnode_def\u001b[0m\u001b[0;34m,\u001b[0m \u001b[0mop\u001b[0m\u001b[0;34m,\u001b[0m \u001b[0mmessage\u001b[0m\u001b[0;34m)\u001b[0m\u001b[0;34m\u001b[0m\u001b[0m\n\u001b[0m\u001b[1;32m   1337\u001b[0m \u001b[0;34m\u001b[0m\u001b[0m\n\u001b[1;32m   1338\u001b[0m   \u001b[0;32mdef\u001b[0m \u001b[0m_extend_graph\u001b[0m\u001b[0;34m(\u001b[0m\u001b[0mself\u001b[0m\u001b[0;34m)\u001b[0m\u001b[0;34m:\u001b[0m\u001b[0;34m\u001b[0m\u001b[0m\n",
      "\u001b[0;31mInvalidArgumentError\u001b[0m: ConcatOp : Dimensions of inputs should match: shape[0] = [0,0] vs. shape[1] = [16000,1]\n\t [[Node: concat = ConcatV2[N=2, T=DT_FLOAT, Tidx=DT_INT32](DecodeAudioV2, zeros, concat/axis)]]\n\t [[Node: IteratorGetNext_1 = IteratorGetNext[output_shapes=[[?,?,1], [?,30], [?,1]], output_types=[DT_FLOAT, DT_FLOAT, DT_FLOAT], _device=\"/job:localhost/replica:0/task:0/device:CPU:0\"](OneShotIterator_1)]]\n\t [[Node: IteratorGetNext_1/_11 = _Recv[client_terminated=false, recv_device=\"/job:localhost/replica:0/task:0/device:GPU:0\", send_device=\"/job:localhost/replica:0/task:0/device:CPU:0\", send_device_incarnation=1, tensor_name=\"edge_12_IteratorGetNext_1\", tensor_type=DT_FLOAT, _device=\"/job:localhost/replica:0/task:0/device:GPU:0\"]()]]\n\nCaused by op 'concat', defined at:\n  File \"/home/philip/.conda/envs/py3/lib/python3.6/runpy.py\", line 193, in _run_module_as_main\n    \"__main__\", mod_spec)\n  File \"/home/philip/.conda/envs/py3/lib/python3.6/runpy.py\", line 85, in _run_code\n    exec(code, run_globals)\n  File \"/home/philip/.conda/envs/py3/lib/python3.6/site-packages/ipykernel_launcher.py\", line 16, in <module>\n    app.launch_new_instance()\n  File \"/home/philip/.conda/envs/py3/lib/python3.6/site-packages/traitlets/config/application.py\", line 658, in launch_instance\n    app.start()\n  File \"/home/philip/.conda/envs/py3/lib/python3.6/site-packages/ipykernel/kernelapp.py\", line 478, in start\n    self.io_loop.start()\n  File \"/home/philip/.conda/envs/py3/lib/python3.6/site-packages/zmq/eventloop/ioloop.py\", line 177, in start\n    super(ZMQIOLoop, self).start()\n  File \"/home/philip/.conda/envs/py3/lib/python3.6/site-packages/tornado/ioloop.py\", line 888, in start\n    handler_func(fd_obj, events)\n  File \"/home/philip/.conda/envs/py3/lib/python3.6/site-packages/tornado/stack_context.py\", line 277, in null_wrapper\n    return fn(*args, **kwargs)\n  File \"/home/philip/.conda/envs/py3/lib/python3.6/site-packages/zmq/eventloop/zmqstream.py\", line 440, in _handle_events\n    self._handle_recv()\n  File \"/home/philip/.conda/envs/py3/lib/python3.6/site-packages/zmq/eventloop/zmqstream.py\", line 472, in _handle_recv\n    self._run_callback(callback, msg)\n  File \"/home/philip/.conda/envs/py3/lib/python3.6/site-packages/zmq/eventloop/zmqstream.py\", line 414, in _run_callback\n    callback(*args, **kwargs)\n  File \"/home/philip/.conda/envs/py3/lib/python3.6/site-packages/tornado/stack_context.py\", line 277, in null_wrapper\n    return fn(*args, **kwargs)\n  File \"/home/philip/.conda/envs/py3/lib/python3.6/site-packages/ipykernel/kernelbase.py\", line 281, in dispatcher\n    return self.dispatch_shell(stream, msg)\n  File \"/home/philip/.conda/envs/py3/lib/python3.6/site-packages/ipykernel/kernelbase.py\", line 232, in dispatch_shell\n    handler(stream, idents, msg)\n  File \"/home/philip/.conda/envs/py3/lib/python3.6/site-packages/ipykernel/kernelbase.py\", line 397, in execute_request\n    user_expressions, allow_stdin)\n  File \"/home/philip/.conda/envs/py3/lib/python3.6/site-packages/ipykernel/ipkernel.py\", line 208, in do_execute\n    res = shell.run_cell(code, store_history=store_history, silent=silent)\n  File \"/home/philip/.conda/envs/py3/lib/python3.6/site-packages/ipykernel/zmqshell.py\", line 533, in run_cell\n    return super(ZMQInteractiveShell, self).run_cell(*args, **kwargs)\n  File \"/home/philip/.conda/envs/py3/lib/python3.6/site-packages/IPython/core/interactiveshell.py\", line 2728, in run_cell\n    interactivity=interactivity, compiler=compiler, result=result)\n  File \"/home/philip/.conda/envs/py3/lib/python3.6/site-packages/IPython/core/interactiveshell.py\", line 2850, in run_ast_nodes\n    if self.run_code(code, result):\n  File \"/home/philip/.conda/envs/py3/lib/python3.6/site-packages/IPython/core/interactiveshell.py\", line 2910, in run_code\n    exec(code_obj, self.user_global_ns, self.user_ns)\n  File \"<ipython-input-18-ae6497d9c5dd>\", line 1, in <module>\n    next_batch = [tf.concat((a,b),0) for a,b in zip(next_batch_class,next_batch_silence)]\n  File \"<ipython-input-18-ae6497d9c5dd>\", line 1, in <listcomp>\n    next_batch = [tf.concat((a,b),0) for a,b in zip(next_batch_class,next_batch_silence)]\n  File \"/home/philip/.conda/envs/py3/lib/python3.6/site-packages/tensorflow/python/ops/array_ops.py\", line 1099, in concat\n    return gen_array_ops._concat_v2(values=values, axis=axis, name=name)\n  File \"/home/philip/.conda/envs/py3/lib/python3.6/site-packages/tensorflow/python/ops/gen_array_ops.py\", line 706, in _concat_v2\n    \"ConcatV2\", values=values, axis=axis, name=name)\n  File \"/home/philip/.conda/envs/py3/lib/python3.6/site-packages/tensorflow/python/framework/op_def_library.py\", line 787, in _apply_op_helper\n    op_def=op_def)\n  File \"/home/philip/.conda/envs/py3/lib/python3.6/site-packages/tensorflow/python/framework/ops.py\", line 2956, in create_op\n    op_def=op_def)\n  File \"/home/philip/.conda/envs/py3/lib/python3.6/site-packages/tensorflow/python/framework/ops.py\", line 1470, in __init__\n    self._traceback = self._graph._extract_stack()  # pylint: disable=protected-access\n\nInvalidArgumentError (see above for traceback): ConcatOp : Dimensions of inputs should match: shape[0] = [0,0] vs. shape[1] = [16000,1]\n\t [[Node: concat = ConcatV2[N=2, T=DT_FLOAT, Tidx=DT_INT32](DecodeAudioV2, zeros, concat/axis)]]\n\t [[Node: IteratorGetNext_1 = IteratorGetNext[output_shapes=[[?,?,1], [?,30], [?,1]], output_types=[DT_FLOAT, DT_FLOAT, DT_FLOAT], _device=\"/job:localhost/replica:0/task:0/device:CPU:0\"](OneShotIterator_1)]]\n\t [[Node: IteratorGetNext_1/_11 = _Recv[client_terminated=false, recv_device=\"/job:localhost/replica:0/task:0/device:GPU:0\", send_device=\"/job:localhost/replica:0/task:0/device:CPU:0\", send_device_incarnation=1, tensor_name=\"edge_12_IteratorGetNext_1\", tensor_type=DT_FLOAT, _device=\"/job:localhost/replica:0/task:0/device:GPU:0\"]()]]\n"
     ]
    }
   ],
   "source": [
    "for i in tqdm.tqdm_notebook(range(600)):\n",
    "    batch_sequence, batch_class_label,batch_binary = sess.run(next_batch)\n",
    "    loss,_ = sess.run([total_loss,train_op],feed_dict={input_sequence:batch_sequence,\n",
    "                                                      class_label:batch_class_label,\n",
    "                                                      binary_label:batch_binary})\n",
    "#     print(i,loss)\n",
    "    losses.append(loss)"
   ]
  },
  {
   "cell_type": "code",
   "execution_count": 55,
   "metadata": {},
   "outputs": [
    {
     "data": {
      "text/plain": [
       "[<matplotlib.lines.Line2D at 0x7f2338ff7400>]"
      ]
     },
     "execution_count": 55,
     "metadata": {},
     "output_type": "execute_result"
    },
    {
     "data": {
      "image/png": "[encoded data removed]",
      "text/plain": [
       "<matplotlib.figure.Figure at 0x7f23ac6cbc18>"
      ]
     },
     "metadata": {},
     "output_type": "display_data"
    }
   ],
   "source": [
    "%matplotlib inline\n",
    "import matplotlib.pyplot as plt\n",
    "plt.plot(losses)"
   ]
  },
  {
   "cell_type": "code",
   "execution_count": 32,
   "metadata": {},
   "outputs": [],
   "source": [
    "# plt.plot(losses[:200])"
   ]
  },
  {
   "cell_type": "markdown",
   "metadata": {},
   "source": [
    "## the plan is to:\n",
    "1. trian a binary classifier to judge if it is a silence audio or not\n",
    "2. train a multi class classifier to predict the exact class if it is not silent\n",
    "3. trian a multi-task classifier to do both thing metioned above"
   ]
  },
  {
   "cell_type": "code",
   "execution_count": 9,
   "metadata": {},
   "outputs": [],
   "source": [
    "# get data from generator and pad within it\n",
    "def audio_gen():\n",
    "    for filename in all_training_file:\n",
    "        y,sr = librosa.load(filename,sr=16000)\n",
    "        if len(y)<16000:\n",
    "            pad_with = (16000-len(y))//2+1\n",
    "            y = np.pad(y,pad_with,'constant')[:16000]\n",
    "        yield y\n",
    "        \n",
    "def silence_gen():\n",
    "    for filename in all_silence_file:\n",
    "        y,sr = librosa.load(filename,sr=16000)\n",
    "        if len(y)<16000:\n",
    "            pad_with = (16000-len(y))//2+1\n",
    "            y = np.pad(y,pad_with,'constant')[:16000]\n",
    "        yield y\n",
    "\n",
    "data_a = tf.data.Dataset.from_generator(audio_gen,tf.float32)\n",
    "data_s = tf.data.Dataset.from_generator(silence_gen,tf.float32)"
   ]
  },
  {
   "cell_type": "code",
   "execution_count": 10,
   "metadata": {},
   "outputs": [],
   "source": [
    "label_bin_0 = tf.data.Dataset.from_tensor_slices([0]).repeat(len(all_training_file))\n",
    "label_bin_1 = tf.data.Dataset.from_tensor_slices([1]).repeat(len(all_silence_file))\n",
    "data_a = data_a.zip((data_a,label_bin_0)).shuffle(buffer_size=320).batch(32).repeat()\n",
    "data_s = data_s.zip((data_s,label_bin_1)).shuffle(buffer_size=320).batch(32).repeat()"
   ]
  },
  {
   "cell_type": "code",
   "execution_count": 13,
   "metadata": {
    "collapsed": true
   },
   "outputs": [],
   "source": [
    "def get_sequence_from_file(filename):\n",
    "    y,sr = librosa.load(filename,sr=16000)\n",
    "    if load_audio:\n",
    "        return y\n",
    "    else:\n",
    "        mel = librosa.feature.melspectrogram(y,sr,hop_length=256)\n",
    "        db = librosa.power_to_db(mel, ref=np.min)\n",
    "        return db"
   ]
  },
  {
   "cell_type": "code",
   "execution_count": 41,
   "metadata": {},
   "outputs": [],
   "source": [
    "mapping_strings = tf.constant(list(class_indices.keys()))\n",
    "table = tf.contrib.lookup.index_table_from_tensor(mapping=mapping_strings, num_oov_buckets=1, default_value=-1)\n",
    "tf.tables_initializer().run()"
   ]
  },
  {
   "cell_type": "code",
   "execution_count": 62,
   "metadata": {
    "collapsed": true
   },
   "outputs": [],
   "source": [
    "\n",
    "# get data from tensorslice and pad with tensorflow method\n",
    "# Tensorflow Sucks! \n",
    "def get_silent_data(filename):\n",
    "    binary_label = tf.constant(0)\n",
    "    data = tf.read_file(filename)\n",
    "    audio_seq = tf.contrib.ffmpeg.decode_audio(data,file_format='wav',samples_per_second=16000,channel_count=1)\n",
    "    # tensorflow does not support 1-d data padding mothod, make sure everything is 16000\n",
    "    pad = tf.concat([audio_seq, tf.zeros((16000,1))],0)[:16000] \n",
    "    class_label=tf.constant(np.zeros(class_num,dtype=np.float32))\n",
    "    return pad,binary_label,class_label\n",
    "\n",
    "def get_label_from_filename(full_filename):\n",
    "    label = (tf.string_split(full_filename,'/').values)[-1]\n",
    "    label_indice = table.lookup(label)\n",
    "    one_hot_encode = tf.one_hot(label_indice,len(class_indices))\n",
    "    return one_hot_encode\n",
    "\n",
    "def get_class_data(filename):\n",
    "    binary_label = tf.constant(1)\n",
    "    class_label=tf.constant(get_label_from_filename(filename))\n",
    "    data = tf.read_file(filename)\n",
    "    audio_seq = tf.contrib.ffmpeg.decode_audio(data,file_format='wav',samples_per_second=16000,channel_count=1)\n",
    "    # tensorflow does not support 1-d data padding mothod, make sure everything is 16000\n",
    "    pad = tf.concat([audio_seq, tf.zeros((16000,1))],0)[:16000] \n",
    "    class_label=tf.constant(get_label_from_filename(filename))\n",
    "    return pad,binary_label,class_label"
   ]
  },
  {
   "cell_type": "code",
   "execution_count": 63,
   "metadata": {
    "scrolled": true
   },
   "outputs": [
    {
     "ename": "ValueError",
     "evalue": "Shape must be rank 1 but is rank 0 for 'StringSplit' (op: 'StringSplit') with input shapes: [], [].",
     "output_type": "error",
     "traceback": [
      "\u001b[0;31m---------------------------------------------------------------------------\u001b[0m",
      "\u001b[0;31mInvalidArgumentError\u001b[0m                      Traceback (most recent call last)",
      "\u001b[0;32m/home/philip/anaconda2/envs/py3/lib/python3.6/site-packages/tensorflow/python/framework/common_shapes.py\u001b[0m in \u001b[0;36m_call_cpp_shape_fn_impl\u001b[0;34m(op, input_tensors_needed, input_tensors_as_shapes_needed, require_shape_fn)\u001b[0m\n\u001b[1;32m    685\u001b[0m           \u001b[0mgraph_def_version\u001b[0m\u001b[0;34m,\u001b[0m \u001b[0mnode_def_str\u001b[0m\u001b[0;34m,\u001b[0m \u001b[0minput_shapes\u001b[0m\u001b[0;34m,\u001b[0m \u001b[0minput_tensors\u001b[0m\u001b[0;34m,\u001b[0m\u001b[0;34m\u001b[0m\u001b[0m\n\u001b[0;32m--> 686\u001b[0;31m           input_tensors_as_shapes, status)\n\u001b[0m\u001b[1;32m    687\u001b[0m   \u001b[0;32mexcept\u001b[0m \u001b[0merrors\u001b[0m\u001b[0;34m.\u001b[0m\u001b[0mInvalidArgumentError\u001b[0m \u001b[0;32mas\u001b[0m \u001b[0merr\u001b[0m\u001b[0;34m:\u001b[0m\u001b[0;34m\u001b[0m\u001b[0m\n",
      "\u001b[0;32m/home/philip/anaconda2/envs/py3/lib/python3.6/site-packages/tensorflow/python/framework/errors_impl.py\u001b[0m in \u001b[0;36m__exit__\u001b[0;34m(self, type_arg, value_arg, traceback_arg)\u001b[0m\n\u001b[1;32m    472\u001b[0m             \u001b[0mcompat\u001b[0m\u001b[0;34m.\u001b[0m\u001b[0mas_text\u001b[0m\u001b[0;34m(\u001b[0m\u001b[0mc_api\u001b[0m\u001b[0;34m.\u001b[0m\u001b[0mTF_Message\u001b[0m\u001b[0;34m(\u001b[0m\u001b[0mself\u001b[0m\u001b[0;34m.\u001b[0m\u001b[0mstatus\u001b[0m\u001b[0;34m.\u001b[0m\u001b[0mstatus\u001b[0m\u001b[0;34m)\u001b[0m\u001b[0;34m)\u001b[0m\u001b[0;34m,\u001b[0m\u001b[0;34m\u001b[0m\u001b[0m\n\u001b[0;32m--> 473\u001b[0;31m             c_api.TF_GetCode(self.status.status))\n\u001b[0m\u001b[1;32m    474\u001b[0m     \u001b[0;31m# Delete the underlying status object from memory otherwise it stays alive\u001b[0m\u001b[0;34m\u001b[0m\u001b[0;34m\u001b[0m\u001b[0m\n",
      "\u001b[0;31mInvalidArgumentError\u001b[0m: Shape must be rank 1 but is rank 0 for 'StringSplit' (op: 'StringSplit') with input shapes: [], [].",
      "\nDuring handling of the above exception, another exception occurred:\n",
      "\u001b[0;31mValueError\u001b[0m                                Traceback (most recent call last)",
      "\u001b[0;32m<ipython-input-63-24fd64a30554>\u001b[0m in \u001b[0;36m<module>\u001b[0;34m()\u001b[0m\n\u001b[1;32m      1\u001b[0m \u001b[0;31m# data_s = binary_class_dataset_audio.map(get_silent_data).shuffle(buffer_size=320).batch(32)\u001b[0m\u001b[0;34m\u001b[0m\u001b[0;34m\u001b[0m\u001b[0m\n\u001b[0;32m----> 2\u001b[0;31m \u001b[0mdata_a\u001b[0m \u001b[0;34m=\u001b[0m \u001b[0mbinary_class_dataset_silence\u001b[0m\u001b[0;34m.\u001b[0m\u001b[0mmap\u001b[0m\u001b[0;34m(\u001b[0m\u001b[0mget_class_data\u001b[0m\u001b[0;34m)\u001b[0m\u001b[0;34m.\u001b[0m\u001b[0mshuffle\u001b[0m\u001b[0;34m(\u001b[0m\u001b[0mbuffer_size\u001b[0m\u001b[0;34m=\u001b[0m\u001b[0;36m320\u001b[0m\u001b[0;34m)\u001b[0m\u001b[0;34m.\u001b[0m\u001b[0mbatch\u001b[0m\u001b[0;34m(\u001b[0m\u001b[0;36m32\u001b[0m\u001b[0;34m)\u001b[0m\u001b[0;34m\u001b[0m\u001b[0m\n\u001b[0m",
      "\u001b[0;32m/home/philip/anaconda2/envs/py3/lib/python3.6/site-packages/tensorflow/python/data/ops/dataset_ops.py\u001b[0m in \u001b[0;36mmap\u001b[0;34m(self, map_func, num_parallel_calls)\u001b[0m\n\u001b[1;32m    710\u001b[0m     \"\"\"\n\u001b[1;32m    711\u001b[0m     \u001b[0;32mif\u001b[0m \u001b[0mnum_parallel_calls\u001b[0m \u001b[0;32mis\u001b[0m \u001b[0;32mNone\u001b[0m\u001b[0;34m:\u001b[0m\u001b[0;34m\u001b[0m\u001b[0m\n\u001b[0;32m--> 712\u001b[0;31m       \u001b[0;32mreturn\u001b[0m \u001b[0mMapDataset\u001b[0m\u001b[0;34m(\u001b[0m\u001b[0mself\u001b[0m\u001b[0;34m,\u001b[0m \u001b[0mmap_func\u001b[0m\u001b[0;34m)\u001b[0m\u001b[0;34m\u001b[0m\u001b[0m\n\u001b[0m\u001b[1;32m    713\u001b[0m     \u001b[0;32melse\u001b[0m\u001b[0;34m:\u001b[0m\u001b[0;34m\u001b[0m\u001b[0m\n\u001b[1;32m    714\u001b[0m       \u001b[0;32mreturn\u001b[0m \u001b[0mParallelMapDataset\u001b[0m\u001b[0;34m(\u001b[0m\u001b[0mself\u001b[0m\u001b[0;34m,\u001b[0m \u001b[0mmap_func\u001b[0m\u001b[0;34m,\u001b[0m \u001b[0mnum_parallel_calls\u001b[0m\u001b[0;34m)\u001b[0m\u001b[0;34m\u001b[0m\u001b[0m\n",
      "\u001b[0;32m/home/philip/anaconda2/envs/py3/lib/python3.6/site-packages/tensorflow/python/data/ops/dataset_ops.py\u001b[0m in \u001b[0;36m__init__\u001b[0;34m(self, input_dataset, map_func)\u001b[0m\n\u001b[1;32m   1383\u001b[0m \u001b[0;34m\u001b[0m\u001b[0m\n\u001b[1;32m   1384\u001b[0m     \u001b[0mself\u001b[0m\u001b[0;34m.\u001b[0m\u001b[0m_map_func\u001b[0m \u001b[0;34m=\u001b[0m \u001b[0mtf_map_func\u001b[0m\u001b[0;34m\u001b[0m\u001b[0m\n\u001b[0;32m-> 1385\u001b[0;31m     \u001b[0mself\u001b[0m\u001b[0;34m.\u001b[0m\u001b[0m_map_func\u001b[0m\u001b[0;34m.\u001b[0m\u001b[0madd_to_graph\u001b[0m\u001b[0;34m(\u001b[0m\u001b[0mops\u001b[0m\u001b[0;34m.\u001b[0m\u001b[0mget_default_graph\u001b[0m\u001b[0;34m(\u001b[0m\u001b[0;34m)\u001b[0m\u001b[0;34m)\u001b[0m\u001b[0;34m\u001b[0m\u001b[0m\n\u001b[0m\u001b[1;32m   1386\u001b[0m \u001b[0;34m\u001b[0m\u001b[0m\n\u001b[1;32m   1387\u001b[0m   \u001b[0;32mdef\u001b[0m \u001b[0m_as_variant_tensor\u001b[0m\u001b[0;34m(\u001b[0m\u001b[0mself\u001b[0m\u001b[0;34m)\u001b[0m\u001b[0;34m:\u001b[0m\u001b[0;34m\u001b[0m\u001b[0m\n",
      "\u001b[0;32m/home/philip/anaconda2/envs/py3/lib/python3.6/site-packages/tensorflow/python/framework/function.py\u001b[0m in \u001b[0;36madd_to_graph\u001b[0;34m(self, g)\u001b[0m\n\u001b[1;32m    484\u001b[0m   \u001b[0;32mdef\u001b[0m \u001b[0madd_to_graph\u001b[0m\u001b[0;34m(\u001b[0m\u001b[0mself\u001b[0m\u001b[0;34m,\u001b[0m \u001b[0mg\u001b[0m\u001b[0;34m)\u001b[0m\u001b[0;34m:\u001b[0m\u001b[0;34m\u001b[0m\u001b[0m\n\u001b[1;32m    485\u001b[0m     \u001b[0;34m\"\"\"Adds this function into the graph g.\"\"\"\u001b[0m\u001b[0;34m\u001b[0m\u001b[0m\n\u001b[0;32m--> 486\u001b[0;31m     \u001b[0mself\u001b[0m\u001b[0;34m.\u001b[0m\u001b[0m_create_definition_if_needed\u001b[0m\u001b[0;34m(\u001b[0m\u001b[0;34m)\u001b[0m\u001b[0;34m\u001b[0m\u001b[0m\n\u001b[0m\u001b[1;32m    487\u001b[0m \u001b[0;34m\u001b[0m\u001b[0m\n\u001b[1;32m    488\u001b[0m     \u001b[0;31m# Adds this function into 'g'.\u001b[0m\u001b[0;34m\u001b[0m\u001b[0;34m\u001b[0m\u001b[0m\n",
      "\u001b[0;32m/home/philip/anaconda2/envs/py3/lib/python3.6/site-packages/tensorflow/python/framework/function.py\u001b[0m in \u001b[0;36m_create_definition_if_needed\u001b[0;34m(self)\u001b[0m\n\u001b[1;32m    319\u001b[0m     \u001b[0;34m\"\"\"Creates the function definition if it's not created yet.\"\"\"\u001b[0m\u001b[0;34m\u001b[0m\u001b[0m\n\u001b[1;32m    320\u001b[0m     \u001b[0;32mwith\u001b[0m \u001b[0mcontext\u001b[0m\u001b[0;34m.\u001b[0m\u001b[0mgraph_mode\u001b[0m\u001b[0;34m(\u001b[0m\u001b[0;34m)\u001b[0m\u001b[0;34m:\u001b[0m\u001b[0;34m\u001b[0m\u001b[0m\n\u001b[0;32m--> 321\u001b[0;31m       \u001b[0mself\u001b[0m\u001b[0;34m.\u001b[0m\u001b[0m_create_definition_if_needed_impl\u001b[0m\u001b[0;34m(\u001b[0m\u001b[0;34m)\u001b[0m\u001b[0;34m\u001b[0m\u001b[0m\n\u001b[0m\u001b[1;32m    322\u001b[0m \u001b[0;34m\u001b[0m\u001b[0m\n\u001b[1;32m    323\u001b[0m   \u001b[0;32mdef\u001b[0m \u001b[0m_create_definition_if_needed_impl\u001b[0m\u001b[0;34m(\u001b[0m\u001b[0mself\u001b[0m\u001b[0;34m)\u001b[0m\u001b[0;34m:\u001b[0m\u001b[0;34m\u001b[0m\u001b[0m\n",
      "\u001b[0;32m/home/philip/anaconda2/envs/py3/lib/python3.6/site-packages/tensorflow/python/framework/function.py\u001b[0m in \u001b[0;36m_create_definition_if_needed_impl\u001b[0;34m(self)\u001b[0m\n\u001b[1;32m    336\u001b[0m       \u001b[0;31m# Call func and gather the output tensors.\u001b[0m\u001b[0;34m\u001b[0m\u001b[0;34m\u001b[0m\u001b[0m\n\u001b[1;32m    337\u001b[0m       \u001b[0;32mwith\u001b[0m \u001b[0mvs\u001b[0m\u001b[0;34m.\u001b[0m\u001b[0mvariable_scope\u001b[0m\u001b[0;34m(\u001b[0m\u001b[0;34m\"\"\u001b[0m\u001b[0;34m,\u001b[0m \u001b[0mcustom_getter\u001b[0m\u001b[0;34m=\u001b[0m\u001b[0mtemp_graph\u001b[0m\u001b[0;34m.\u001b[0m\u001b[0mgetvar\u001b[0m\u001b[0;34m)\u001b[0m\u001b[0;34m:\u001b[0m\u001b[0;34m\u001b[0m\u001b[0m\n\u001b[0;32m--> 338\u001b[0;31m         \u001b[0moutputs\u001b[0m \u001b[0;34m=\u001b[0m \u001b[0mself\u001b[0m\u001b[0;34m.\u001b[0m\u001b[0m_func\u001b[0m\u001b[0;34m(\u001b[0m\u001b[0;34m*\u001b[0m\u001b[0minputs\u001b[0m\u001b[0;34m)\u001b[0m\u001b[0;34m\u001b[0m\u001b[0m\n\u001b[0m\u001b[1;32m    339\u001b[0m \u001b[0;34m\u001b[0m\u001b[0m\n\u001b[1;32m    340\u001b[0m       \u001b[0;31m# There is no way of distinguishing between a function not returning\u001b[0m\u001b[0;34m\u001b[0m\u001b[0;34m\u001b[0m\u001b[0m\n",
      "\u001b[0;32m/home/philip/anaconda2/envs/py3/lib/python3.6/site-packages/tensorflow/python/data/ops/dataset_ops.py\u001b[0m in \u001b[0;36mtf_map_func\u001b[0;34m(*args)\u001b[0m\n\u001b[1;32m   1358\u001b[0m         \u001b[0mret\u001b[0m \u001b[0;34m=\u001b[0m \u001b[0mmap_func\u001b[0m\u001b[0;34m(\u001b[0m\u001b[0;34m*\u001b[0m\u001b[0mnested_args\u001b[0m\u001b[0;34m)\u001b[0m\u001b[0;34m\u001b[0m\u001b[0m\n\u001b[1;32m   1359\u001b[0m       \u001b[0;32melse\u001b[0m\u001b[0;34m:\u001b[0m\u001b[0;34m\u001b[0m\u001b[0m\n\u001b[0;32m-> 1360\u001b[0;31m         \u001b[0mret\u001b[0m \u001b[0;34m=\u001b[0m \u001b[0mmap_func\u001b[0m\u001b[0;34m(\u001b[0m\u001b[0mnested_args\u001b[0m\u001b[0;34m)\u001b[0m\u001b[0;34m\u001b[0m\u001b[0m\n\u001b[0m\u001b[1;32m   1361\u001b[0m \u001b[0;34m\u001b[0m\u001b[0m\n\u001b[1;32m   1362\u001b[0m       \u001b[0;31m# If `map_func` returns a list of tensors, `nest.flatten()` and\u001b[0m\u001b[0;34m\u001b[0m\u001b[0;34m\u001b[0m\u001b[0m\n",
      "\u001b[0;32m<ipython-input-62-3c7ef187b450>\u001b[0m in \u001b[0;36mget_class_data\u001b[0;34m(filename)\u001b[0m\n\u001b[1;32m     19\u001b[0m \u001b[0;32mdef\u001b[0m \u001b[0mget_class_data\u001b[0m\u001b[0;34m(\u001b[0m\u001b[0mfilename\u001b[0m\u001b[0;34m)\u001b[0m\u001b[0;34m:\u001b[0m\u001b[0;34m\u001b[0m\u001b[0m\n\u001b[1;32m     20\u001b[0m     \u001b[0mbinary_label\u001b[0m \u001b[0;34m=\u001b[0m \u001b[0mtf\u001b[0m\u001b[0;34m.\u001b[0m\u001b[0mconstant\u001b[0m\u001b[0;34m(\u001b[0m\u001b[0;36m1\u001b[0m\u001b[0;34m)\u001b[0m\u001b[0;34m\u001b[0m\u001b[0m\n\u001b[0;32m---> 21\u001b[0;31m     \u001b[0mclass_label\u001b[0m\u001b[0;34m=\u001b[0m\u001b[0mtf\u001b[0m\u001b[0;34m.\u001b[0m\u001b[0mconstant\u001b[0m\u001b[0;34m(\u001b[0m\u001b[0mget_label_from_filename\u001b[0m\u001b[0;34m(\u001b[0m\u001b[0mfilename\u001b[0m\u001b[0;34m)\u001b[0m\u001b[0;34m)\u001b[0m\u001b[0;34m\u001b[0m\u001b[0m\n\u001b[0m\u001b[1;32m     22\u001b[0m     \u001b[0mdata\u001b[0m \u001b[0;34m=\u001b[0m \u001b[0mtf\u001b[0m\u001b[0;34m.\u001b[0m\u001b[0mread_file\u001b[0m\u001b[0;34m(\u001b[0m\u001b[0mfilename\u001b[0m\u001b[0;34m)\u001b[0m\u001b[0;34m\u001b[0m\u001b[0m\n\u001b[1;32m     23\u001b[0m     \u001b[0maudio_seq\u001b[0m \u001b[0;34m=\u001b[0m \u001b[0mtf\u001b[0m\u001b[0;34m.\u001b[0m\u001b[0mcontrib\u001b[0m\u001b[0;34m.\u001b[0m\u001b[0mffmpeg\u001b[0m\u001b[0;34m.\u001b[0m\u001b[0mdecode_audio\u001b[0m\u001b[0;34m(\u001b[0m\u001b[0mdata\u001b[0m\u001b[0;34m,\u001b[0m\u001b[0mfile_format\u001b[0m\u001b[0;34m=\u001b[0m\u001b[0;34m'wav'\u001b[0m\u001b[0;34m,\u001b[0m\u001b[0msamples_per_second\u001b[0m\u001b[0;34m=\u001b[0m\u001b[0;36m16000\u001b[0m\u001b[0;34m,\u001b[0m\u001b[0mchannel_count\u001b[0m\u001b[0;34m=\u001b[0m\u001b[0;36m1\u001b[0m\u001b[0;34m)\u001b[0m\u001b[0;34m\u001b[0m\u001b[0m\n",
      "\u001b[0;32m<ipython-input-62-3c7ef187b450>\u001b[0m in \u001b[0;36mget_label_from_filename\u001b[0;34m(full_filename)\u001b[0m\n\u001b[1;32m     12\u001b[0m \u001b[0;34m\u001b[0m\u001b[0m\n\u001b[1;32m     13\u001b[0m \u001b[0;32mdef\u001b[0m \u001b[0mget_label_from_filename\u001b[0m\u001b[0;34m(\u001b[0m\u001b[0mfull_filename\u001b[0m\u001b[0;34m)\u001b[0m\u001b[0;34m:\u001b[0m\u001b[0;34m\u001b[0m\u001b[0m\n\u001b[0;32m---> 14\u001b[0;31m     \u001b[0mlabel\u001b[0m \u001b[0;34m=\u001b[0m \u001b[0;34m(\u001b[0m\u001b[0mtf\u001b[0m\u001b[0;34m.\u001b[0m\u001b[0mstring_split\u001b[0m\u001b[0;34m(\u001b[0m\u001b[0mfull_filename\u001b[0m\u001b[0;34m,\u001b[0m\u001b[0;34m'/'\u001b[0m\u001b[0;34m)\u001b[0m\u001b[0;34m.\u001b[0m\u001b[0mvalues\u001b[0m\u001b[0;34m)\u001b[0m\u001b[0;34m[\u001b[0m\u001b[0;34m-\u001b[0m\u001b[0;36m1\u001b[0m\u001b[0;34m]\u001b[0m\u001b[0;34m\u001b[0m\u001b[0m\n\u001b[0m\u001b[1;32m     15\u001b[0m     \u001b[0mlabel_indice\u001b[0m \u001b[0;34m=\u001b[0m \u001b[0mtable\u001b[0m\u001b[0;34m.\u001b[0m\u001b[0mlookup\u001b[0m\u001b[0;34m(\u001b[0m\u001b[0mlabel\u001b[0m\u001b[0;34m)\u001b[0m\u001b[0;34m\u001b[0m\u001b[0m\n\u001b[1;32m     16\u001b[0m     \u001b[0mone_hot_encode\u001b[0m \u001b[0;34m=\u001b[0m \u001b[0mtf\u001b[0m\u001b[0;34m.\u001b[0m\u001b[0mone_hot\u001b[0m\u001b[0;34m(\u001b[0m\u001b[0mlabel_indice\u001b[0m\u001b[0;34m,\u001b[0m\u001b[0mlen\u001b[0m\u001b[0;34m(\u001b[0m\u001b[0mclass_indices\u001b[0m\u001b[0;34m)\u001b[0m\u001b[0;34m)\u001b[0m\u001b[0;34m\u001b[0m\u001b[0m\n",
      "\u001b[0;32m/home/philip/anaconda2/envs/py3/lib/python3.6/site-packages/tensorflow/python/ops/string_ops.py\u001b[0m in \u001b[0;36mstring_split\u001b[0;34m(source, delimiter, skip_empty)\u001b[0m\n\u001b[1;32m     94\u001b[0m   \u001b[0;31m# pylint: disable=protected-access\u001b[0m\u001b[0;34m\u001b[0m\u001b[0;34m\u001b[0m\u001b[0m\n\u001b[1;32m     95\u001b[0m   indices, values, shape = gen_string_ops._string_split(\n\u001b[0;32m---> 96\u001b[0;31m       source, delimiter=delimiter, skip_empty=skip_empty)\n\u001b[0m\u001b[1;32m     97\u001b[0m   \u001b[0;31m# pylint: enable=protected-access\u001b[0m\u001b[0;34m\u001b[0m\u001b[0;34m\u001b[0m\u001b[0m\n\u001b[1;32m     98\u001b[0m   \u001b[0mindices\u001b[0m\u001b[0;34m.\u001b[0m\u001b[0mset_shape\u001b[0m\u001b[0;34m(\u001b[0m\u001b[0;34m[\u001b[0m\u001b[0;32mNone\u001b[0m\u001b[0;34m,\u001b[0m \u001b[0;36m2\u001b[0m\u001b[0;34m]\u001b[0m\u001b[0;34m)\u001b[0m\u001b[0;34m\u001b[0m\u001b[0m\n",
      "\u001b[0;32m/home/philip/anaconda2/envs/py3/lib/python3.6/site-packages/tensorflow/python/ops/gen_string_ops.py\u001b[0m in \u001b[0;36m_string_split\u001b[0;34m(input, delimiter, skip_empty, name)\u001b[0m\n\u001b[1;32m    328\u001b[0m     _, _, _op = _op_def_lib._apply_op_helper(\n\u001b[1;32m    329\u001b[0m         \u001b[0;34m\"StringSplit\"\u001b[0m\u001b[0;34m,\u001b[0m \u001b[0minput\u001b[0m\u001b[0;34m=\u001b[0m\u001b[0minput\u001b[0m\u001b[0;34m,\u001b[0m \u001b[0mdelimiter\u001b[0m\u001b[0;34m=\u001b[0m\u001b[0mdelimiter\u001b[0m\u001b[0;34m,\u001b[0m\u001b[0;34m\u001b[0m\u001b[0m\n\u001b[0;32m--> 330\u001b[0;31m         skip_empty=skip_empty, name=name)\n\u001b[0m\u001b[1;32m    331\u001b[0m     \u001b[0m_result\u001b[0m \u001b[0;34m=\u001b[0m \u001b[0m_op\u001b[0m\u001b[0;34m.\u001b[0m\u001b[0moutputs\u001b[0m\u001b[0;34m[\u001b[0m\u001b[0;34m:\u001b[0m\u001b[0;34m]\u001b[0m\u001b[0;34m\u001b[0m\u001b[0m\n\u001b[1;32m    332\u001b[0m     \u001b[0m_inputs_flat\u001b[0m \u001b[0;34m=\u001b[0m \u001b[0m_op\u001b[0m\u001b[0;34m.\u001b[0m\u001b[0minputs\u001b[0m\u001b[0;34m\u001b[0m\u001b[0m\n",
      "\u001b[0;32m/home/philip/anaconda2/envs/py3/lib/python3.6/site-packages/tensorflow/python/framework/op_def_library.py\u001b[0m in \u001b[0;36m_apply_op_helper\u001b[0;34m(self, op_type_name, name, **keywords)\u001b[0m\n\u001b[1;32m    785\u001b[0m         op = g.create_op(op_type_name, inputs, output_types, name=scope,\n\u001b[1;32m    786\u001b[0m                          \u001b[0minput_types\u001b[0m\u001b[0;34m=\u001b[0m\u001b[0minput_types\u001b[0m\u001b[0;34m,\u001b[0m \u001b[0mattrs\u001b[0m\u001b[0;34m=\u001b[0m\u001b[0mattr_protos\u001b[0m\u001b[0;34m,\u001b[0m\u001b[0;34m\u001b[0m\u001b[0m\n\u001b[0;32m--> 787\u001b[0;31m                          op_def=op_def)\n\u001b[0m\u001b[1;32m    788\u001b[0m       \u001b[0;32mreturn\u001b[0m \u001b[0moutput_structure\u001b[0m\u001b[0;34m,\u001b[0m \u001b[0mop_def\u001b[0m\u001b[0;34m.\u001b[0m\u001b[0mis_stateful\u001b[0m\u001b[0;34m,\u001b[0m \u001b[0mop\u001b[0m\u001b[0;34m\u001b[0m\u001b[0m\n\u001b[1;32m    789\u001b[0m \u001b[0;34m\u001b[0m\u001b[0m\n",
      "\u001b[0;32m/home/philip/anaconda2/envs/py3/lib/python3.6/site-packages/tensorflow/python/framework/function.py\u001b[0m in \u001b[0;36mcreate_op\u001b[0;34m(self, op_type, inputs, data_types, **kwargs)\u001b[0m\n\u001b[1;32m    701\u001b[0m           \u001b[0mself\u001b[0m\u001b[0;34m.\u001b[0m\u001b[0mextra_args\u001b[0m\u001b[0;34m.\u001b[0m\u001b[0mappend\u001b[0m\u001b[0;34m(\u001b[0m\u001b[0mph\u001b[0m\u001b[0;34m)\u001b[0m\u001b[0;34m\u001b[0m\u001b[0m\n\u001b[1;32m    702\u001b[0m     return super(_FuncGraph, self).create_op(op_type, inputs, data_types,\n\u001b[0;32m--> 703\u001b[0;31m                                              **kwargs)\n\u001b[0m\u001b[1;32m    704\u001b[0m \u001b[0;34m\u001b[0m\u001b[0m\n\u001b[1;32m    705\u001b[0m   \u001b[0;32mdef\u001b[0m \u001b[0m_add_tensor_and_parents\u001b[0m\u001b[0;34m(\u001b[0m\u001b[0mself\u001b[0m\u001b[0;34m,\u001b[0m \u001b[0mtensor\u001b[0m\u001b[0;34m)\u001b[0m\u001b[0;34m:\u001b[0m\u001b[0;34m\u001b[0m\u001b[0m\n",
      "\u001b[0;32m/home/philip/anaconda2/envs/py3/lib/python3.6/site-packages/tensorflow/python/framework/ops.py\u001b[0m in \u001b[0;36mcreate_op\u001b[0;34m(self, op_type, inputs, dtypes, input_types, name, attrs, op_def, compute_shapes, compute_device)\u001b[0m\n\u001b[1;32m   2956\u001b[0m         op_def=op_def)\n\u001b[1;32m   2957\u001b[0m     \u001b[0;32mif\u001b[0m \u001b[0mcompute_shapes\u001b[0m\u001b[0;34m:\u001b[0m\u001b[0;34m\u001b[0m\u001b[0m\n\u001b[0;32m-> 2958\u001b[0;31m       \u001b[0mset_shapes_for_outputs\u001b[0m\u001b[0;34m(\u001b[0m\u001b[0mret\u001b[0m\u001b[0;34m)\u001b[0m\u001b[0;34m\u001b[0m\u001b[0m\n\u001b[0m\u001b[1;32m   2959\u001b[0m     \u001b[0mself\u001b[0m\u001b[0;34m.\u001b[0m\u001b[0m_add_op\u001b[0m\u001b[0;34m(\u001b[0m\u001b[0mret\u001b[0m\u001b[0;34m)\u001b[0m\u001b[0;34m\u001b[0m\u001b[0m\n\u001b[1;32m   2960\u001b[0m     \u001b[0mself\u001b[0m\u001b[0;34m.\u001b[0m\u001b[0m_record_op_seen_by_control_dependencies\u001b[0m\u001b[0;34m(\u001b[0m\u001b[0mret\u001b[0m\u001b[0;34m)\u001b[0m\u001b[0;34m\u001b[0m\u001b[0m\n",
      "\u001b[0;32m/home/philip/anaconda2/envs/py3/lib/python3.6/site-packages/tensorflow/python/framework/ops.py\u001b[0m in \u001b[0;36mset_shapes_for_outputs\u001b[0;34m(op)\u001b[0m\n\u001b[1;32m   2207\u001b[0m       \u001b[0mshape_func\u001b[0m \u001b[0;34m=\u001b[0m \u001b[0m_call_cpp_shape_fn_and_require_op\u001b[0m\u001b[0;34m\u001b[0m\u001b[0m\n\u001b[1;32m   2208\u001b[0m \u001b[0;34m\u001b[0m\u001b[0m\n\u001b[0;32m-> 2209\u001b[0;31m   \u001b[0mshapes\u001b[0m \u001b[0;34m=\u001b[0m \u001b[0mshape_func\u001b[0m\u001b[0;34m(\u001b[0m\u001b[0mop\u001b[0m\u001b[0;34m)\u001b[0m\u001b[0;34m\u001b[0m\u001b[0m\n\u001b[0m\u001b[1;32m   2210\u001b[0m   \u001b[0;32mif\u001b[0m \u001b[0mshapes\u001b[0m \u001b[0;32mis\u001b[0m \u001b[0;32mNone\u001b[0m\u001b[0;34m:\u001b[0m\u001b[0;34m\u001b[0m\u001b[0m\n\u001b[1;32m   2211\u001b[0m     raise RuntimeError(\n",
      "\u001b[0;32m/home/philip/anaconda2/envs/py3/lib/python3.6/site-packages/tensorflow/python/framework/ops.py\u001b[0m in \u001b[0;36mcall_with_requiring\u001b[0;34m(op)\u001b[0m\n\u001b[1;32m   2157\u001b[0m \u001b[0;34m\u001b[0m\u001b[0m\n\u001b[1;32m   2158\u001b[0m   \u001b[0;32mdef\u001b[0m \u001b[0mcall_with_requiring\u001b[0m\u001b[0;34m(\u001b[0m\u001b[0mop\u001b[0m\u001b[0;34m)\u001b[0m\u001b[0;34m:\u001b[0m\u001b[0;34m\u001b[0m\u001b[0m\n\u001b[0;32m-> 2159\u001b[0;31m     \u001b[0;32mreturn\u001b[0m \u001b[0mcall_cpp_shape_fn\u001b[0m\u001b[0;34m(\u001b[0m\u001b[0mop\u001b[0m\u001b[0;34m,\u001b[0m \u001b[0mrequire_shape_fn\u001b[0m\u001b[0;34m=\u001b[0m\u001b[0;32mTrue\u001b[0m\u001b[0;34m)\u001b[0m\u001b[0;34m\u001b[0m\u001b[0m\n\u001b[0m\u001b[1;32m   2160\u001b[0m \u001b[0;34m\u001b[0m\u001b[0m\n\u001b[1;32m   2161\u001b[0m   \u001b[0m_call_cpp_shape_fn_and_require_op\u001b[0m \u001b[0;34m=\u001b[0m \u001b[0mcall_with_requiring\u001b[0m\u001b[0;34m\u001b[0m\u001b[0m\n",
      "\u001b[0;32m/home/philip/anaconda2/envs/py3/lib/python3.6/site-packages/tensorflow/python/framework/common_shapes.py\u001b[0m in \u001b[0;36mcall_cpp_shape_fn\u001b[0;34m(op, require_shape_fn)\u001b[0m\n\u001b[1;32m    625\u001b[0m     res = _call_cpp_shape_fn_impl(op, input_tensors_needed,\n\u001b[1;32m    626\u001b[0m                                   \u001b[0minput_tensors_as_shapes_needed\u001b[0m\u001b[0;34m,\u001b[0m\u001b[0;34m\u001b[0m\u001b[0m\n\u001b[0;32m--> 627\u001b[0;31m                                   require_shape_fn)\n\u001b[0m\u001b[1;32m    628\u001b[0m     \u001b[0;32mif\u001b[0m \u001b[0;32mnot\u001b[0m \u001b[0misinstance\u001b[0m\u001b[0;34m(\u001b[0m\u001b[0mres\u001b[0m\u001b[0;34m,\u001b[0m \u001b[0mdict\u001b[0m\u001b[0;34m)\u001b[0m\u001b[0;34m:\u001b[0m\u001b[0;34m\u001b[0m\u001b[0m\n\u001b[1;32m    629\u001b[0m       \u001b[0;31m# Handles the case where _call_cpp_shape_fn_impl calls unknown_shape(op).\u001b[0m\u001b[0;34m\u001b[0m\u001b[0;34m\u001b[0m\u001b[0m\n",
      "\u001b[0;32m/home/philip/anaconda2/envs/py3/lib/python3.6/site-packages/tensorflow/python/framework/common_shapes.py\u001b[0m in \u001b[0;36m_call_cpp_shape_fn_impl\u001b[0;34m(op, input_tensors_needed, input_tensors_as_shapes_needed, require_shape_fn)\u001b[0m\n\u001b[1;32m    689\u001b[0m       \u001b[0mmissing_shape_fn\u001b[0m \u001b[0;34m=\u001b[0m \u001b[0;32mTrue\u001b[0m\u001b[0;34m\u001b[0m\u001b[0m\n\u001b[1;32m    690\u001b[0m     \u001b[0;32melse\u001b[0m\u001b[0;34m:\u001b[0m\u001b[0;34m\u001b[0m\u001b[0m\n\u001b[0;32m--> 691\u001b[0;31m       \u001b[0;32mraise\u001b[0m \u001b[0mValueError\u001b[0m\u001b[0;34m(\u001b[0m\u001b[0merr\u001b[0m\u001b[0;34m.\u001b[0m\u001b[0mmessage\u001b[0m\u001b[0;34m)\u001b[0m\u001b[0;34m\u001b[0m\u001b[0m\n\u001b[0m\u001b[1;32m    692\u001b[0m \u001b[0;34m\u001b[0m\u001b[0m\n\u001b[1;32m    693\u001b[0m   \u001b[0;32mif\u001b[0m \u001b[0mmissing_shape_fn\u001b[0m\u001b[0;34m:\u001b[0m\u001b[0;34m\u001b[0m\u001b[0m\n",
      "\u001b[0;31mValueError\u001b[0m: Shape must be rank 1 but is rank 0 for 'StringSplit' (op: 'StringSplit') with input shapes: [], []."
     ]
    }
   ],
   "source": [
    "# data_s = binary_class_dataset_audio.map(get_silent_data).shuffle(buffer_size=320).batch(32)\n",
    "data_a = binary_class_dataset_silence.map(get_class_data).shuffle(buffer_size=320).batch(32)"
   ]
  },
  {
   "cell_type": "code",
   "execution_count": 121,
   "metadata": {
    "collapsed": true
   },
   "outputs": [],
   "source": [
    "# from tensorflow.python.keras.layers import Conv2D,MaxPool2D,BatchNormalization,Input,Activation,MaxPool1D,Reshape, Bidirectional,Flatten,Dense\n",
    "# from tensorflow.python.keras.layers import GRU\n",
    "# from tensorflow.python.keras.layers import LSTM\n",
    "# from tensorflow.python.keras.models import Sequential"
   ]
  },
  {
   "cell_type": "code",
   "execution_count": 58,
   "metadata": {},
   "outputs": [
    {
     "name": "stdout",
     "output_type": "stream",
     "text": [
      "__________________________________________________________________________________________________\n",
      "Layer (type)                    Output Shape         Param #     Connected to                     \n",
      "==================================================================================================\n",
      "input_12 (InputLayer)           (None, 16000, 1)     0                                            \n",
      "__________________________________________________________________________________________________\n",
      "conv1d_24 (Conv1D)              (None, 16000, 128)   65664       input_12[0][0]                   \n",
      "__________________________________________________________________________________________________\n",
      "batch_normalization_23 (BatchNo (None, 16000, 128)   512         conv1d_24[0][0]                  \n",
      "__________________________________________________________________________________________________\n",
      "max_pooling1d_28 (MaxPooling1D) (None, 1599, 128)    0           batch_normalization_23[0][0]     \n",
      "__________________________________________________________________________________________________\n",
      "conv1d_25 (Conv1D)              (None, 1599, 256)    8388864     max_pooling1d_28[0][0]           \n",
      "__________________________________________________________________________________________________\n",
      "batch_normalization_24 (BatchNo (None, 1599, 256)    1024        conv1d_25[0][0]                  \n",
      "__________________________________________________________________________________________________\n",
      "max_pooling1d_29 (MaxPooling1D) (None, 158, 256)     0           batch_normalization_24[0][0]     \n",
      "__________________________________________________________________________________________________\n",
      "bidirectional_20 (Bidirectional (None, 158, 256)     1052672     max_pooling1d_29[0][0]           \n",
      "__________________________________________________________________________________________________\n",
      "bidirectional_21 (Bidirectional (None, 158, 256)     1052672     bidirectional_20[0][0]           \n",
      "__________________________________________________________________________________________________\n",
      "permute_17 (Permute)            (None, 256, 158)     0           bidirectional_21[0][0]           \n",
      "__________________________________________________________________________________________________\n",
      "dense_9 (Dense)                 (None, 256, 158)     25122       permute_17[0][0]                 \n",
      "__________________________________________________________________________________________________\n",
      "permute_18 (Permute)            (None, 158, 256)     0           dense_9[0][0]                    \n",
      "__________________________________________________________________________________________________\n",
      "multiply_6 (Multiply)           (None, 158, 256)     0           bidirectional_21[0][0]           \n",
      "                                                                 permute_18[0][0]                 \n",
      "__________________________________________________________________________________________________\n",
      "max_pooling1d_30 (MaxPooling1D) (None, 1, 256)       0           multiply_6[0][0]                 \n",
      "__________________________________________________________________________________________________\n",
      "flatten_6 (Flatten)             (None, 256)          0           max_pooling1d_30[0][0]           \n",
      "==================================================================================================\n",
      "Total params: 10,586,530\n",
      "Trainable params: 10,585,762\n",
      "Non-trainable params: 768\n",
      "__________________________________________________________________________________________________\n"
     ]
    }
   ],
   "source": [
    "input_layer = Input((16000,1))\n",
    "out = conv_1d_model(input_layer)\n",
    "from keras import Model\n",
    "model = Model(input_layer,out)\n",
    "model.summary()"
   ]
  },
  {
   "cell_type": "code",
   "execution_count": 68,
   "metadata": {},
   "outputs": [
    {
     "name": "stderr",
     "output_type": "stream",
     "text": [
      "Using TensorFlow backend.\n"
     ]
    }
   ],
   "source": [
    "from keras import Sequential\n",
    "\n",
    "# def buile_1d_conv_model(class_num):\n",
    "#     model = Sequential()\n",
    "#     model.add(Conv1D(128,512,padding='same', input_shape=(16000,1),activation='relu',dilation_rate=4))\n",
    "#     model.add(BatchNormalization())\n",
    "#     model.add(MaxPool1D(pool_size=(20),strides=10))\n",
    "    \n",
    "#     model.add(Conv1D(256,256,padding='same', activation='relu',dilation_rate=4))\n",
    "#     model.add(BatchNormalization())\n",
    "#     model.add(MaxPool1D(pool_size=(20),strides=10))\n",
    "    \n",
    "#     model.add(Bidirectional(LSTM(256,return_sequences=True),merge_mode='ave'))\n",
    "#     model.add(Bidirectional(LSTM(256,return_sequences=True),merge_mode='ave'))\n",
    "    \n",
    "#     model.add(MaxPool1D(158))\n",
    "\n",
    "#     model.add(Flatten())\n",
    "\n",
    "#     return model"
   ]
  },
  {
   "cell_type": "code",
   "execution_count": 12,
   "metadata": {},
   "outputs": [],
   "source": [
    "model = buile_1d_conv_model(1)\n",
    "model.add(Dense(1,activation='sigmoid'))\n",
    "model.compile(loss='binary_crossentropy',metrics=['binary_accuracy'],optimizer='sgd')"
   ]
  },
  {
   "cell_type": "code",
   "execution_count": 25,
   "metadata": {},
   "outputs": [],
   "source": [
    "next_batch_all = [i.make_one_shot_iterator().get_next() for i in [data_a,data_s]]\n",
    "next_seq_batch,next_label_batch = tf.concat([_[0] for _ in next_batch_all],0), tf.concat([_[1] for _ in next_batch_all],0)"
   ]
  },
  {
   "cell_type": "code",
   "execution_count": 16,
   "metadata": {
    "collapsed": true
   },
   "outputs": [],
   "source": [
    "sess = tf.InteractiveSession()"
   ]
  },
  {
   "cell_type": "code",
   "execution_count": 20,
   "metadata": {
    "scrolled": true
   },
   "outputs": [
    {
     "name": "stdout",
     "output_type": "stream",
     "text": [
      "Epoch 1/1\n",
      " - 4s - loss: 0.0365 - binary_accuracy: 0.9844\n",
      "Epoch 1/1\n",
      " - 4s - loss: 0.0135 - binary_accuracy: 1.0000\n",
      "Epoch 1/1\n",
      " - 4s - loss: 0.0678 - binary_accuracy: 0.9844\n",
      "Epoch 1/1\n",
      " - 4s - loss: 0.0423 - binary_accuracy: 0.9844\n",
      "Epoch 1/1\n",
      " - 4s - loss: 0.0652 - binary_accuracy: 0.9688\n",
      "Epoch 1/1\n",
      " - 4s - loss: 0.0566 - binary_accuracy: 0.9844\n",
      "Epoch 1/1\n",
      " - 4s - loss: 0.0322 - binary_accuracy: 1.0000\n",
      "Epoch 1/1\n",
      " - 4s - loss: 0.0387 - binary_accuracy: 0.9844\n",
      "Epoch 1/1\n",
      " - 4s - loss: 0.1268 - binary_accuracy: 0.9531\n",
      "Epoch 1/1\n",
      " - 4s - loss: 0.0439 - binary_accuracy: 0.9844\n",
      "Epoch 1/1\n",
      " - 4s - loss: 0.0638 - binary_accuracy: 0.9688\n",
      "Epoch 1/1\n",
      " - 4s - loss: 0.0646 - binary_accuracy: 0.9844\n",
      "Epoch 1/1\n",
      " - 4s - loss: 0.0475 - binary_accuracy: 0.9688\n",
      "Epoch 1/1\n",
      " - 4s - loss: 0.0473 - binary_accuracy: 0.9844\n",
      "Epoch 1/1\n",
      " - 4s - loss: 0.0210 - binary_accuracy: 1.0000\n",
      "Epoch 1/1\n",
      " - 4s - loss: 0.0201 - binary_accuracy: 1.0000\n",
      "Epoch 1/1\n",
      " - 4s - loss: 0.1242 - binary_accuracy: 0.9375\n",
      "Epoch 1/1\n",
      " - 4s - loss: 0.0367 - binary_accuracy: 1.0000\n",
      "Epoch 1/1\n",
      " - 4s - loss: 0.0255 - binary_accuracy: 1.0000\n",
      "Epoch 1/1\n",
      " - 4s - loss: 0.0813 - binary_accuracy: 0.9531\n",
      "Epoch 1/1\n",
      " - 4s - loss: 0.0758 - binary_accuracy: 0.9844\n",
      "Epoch 1/1\n",
      " - 4s - loss: 0.0370 - binary_accuracy: 0.9844\n",
      "Epoch 1/1\n",
      " - 4s - loss: 0.0408 - binary_accuracy: 0.9844\n",
      "Epoch 1/1\n",
      " - 4s - loss: 0.0692 - binary_accuracy: 0.9688\n",
      "Epoch 1/1\n",
      " - 4s - loss: 0.0309 - binary_accuracy: 1.0000\n",
      "Epoch 1/1\n",
      " - 4s - loss: 0.0266 - binary_accuracy: 1.0000\n",
      "Epoch 1/1\n",
      " - 4s - loss: 0.0385 - binary_accuracy: 1.0000\n",
      "Epoch 1/1\n",
      " - 4s - loss: 0.0143 - binary_accuracy: 1.0000\n",
      "Epoch 1/1\n",
      " - 4s - loss: 0.0411 - binary_accuracy: 0.9844\n",
      "Epoch 1/1\n",
      " - 4s - loss: 0.0584 - binary_accuracy: 0.9688\n",
      "Epoch 1/1\n",
      " - 4s - loss: 0.0359 - binary_accuracy: 1.0000\n",
      "Epoch 1/1\n",
      " - 4s - loss: 0.1189 - binary_accuracy: 0.9531\n",
      "Epoch 1/1\n",
      " - 4s - loss: 0.0743 - binary_accuracy: 0.9688\n",
      "Epoch 1/1\n",
      " - 3s - loss: 0.0531 - binary_accuracy: 0.9800\n",
      "Epoch 1/1\n",
      " - 4s - loss: 0.1855 - binary_accuracy: 0.9219\n",
      "Epoch 1/1\n",
      " - 4s - loss: 0.2222 - binary_accuracy: 0.9062\n",
      "Epoch 1/1\n",
      " - 4s - loss: 0.0868 - binary_accuracy: 0.9844\n",
      "Epoch 1/1\n",
      " - 4s - loss: 0.1332 - binary_accuracy: 0.9688\n",
      "Epoch 1/1\n",
      " - 4s - loss: 0.1303 - binary_accuracy: 0.9531\n",
      "Epoch 1/1\n",
      " - 4s - loss: 0.0546 - binary_accuracy: 0.9844\n",
      "Epoch 1/1\n",
      " - 4s - loss: 0.0557 - binary_accuracy: 0.9844\n",
      "Epoch 1/1\n",
      " - 4s - loss: 0.0628 - binary_accuracy: 1.0000\n",
      "Epoch 1/1\n",
      " - 4s - loss: 0.2065 - binary_accuracy: 0.9375\n",
      "Epoch 1/1\n",
      " - 4s - loss: 0.0984 - binary_accuracy: 0.9844\n",
      "Epoch 1/1\n",
      " - 4s - loss: 0.1199 - binary_accuracy: 0.9688\n",
      "Epoch 1/1\n",
      " - 4s - loss: 0.0753 - binary_accuracy: 0.9688\n",
      "Epoch 1/1\n",
      " - 4s - loss: 0.1671 - binary_accuracy: 0.9688\n",
      "Epoch 1/1\n",
      " - 4s - loss: 0.0778 - binary_accuracy: 0.9844\n",
      "Epoch 1/1\n",
      " - 4s - loss: 0.0331 - binary_accuracy: 1.0000\n",
      "Epoch 1/1\n",
      " - 4s - loss: 0.0272 - binary_accuracy: 1.0000\n",
      "\n"
     ]
    }
   ],
   "source": [
    "# for i in tqdm.tqdm_notebook(range(50)):\n",
    "#     seq,label = sess.run([next_seq_batch,next_label_batch])\n",
    "#     model.fit(np.expand_dims(seq,2),label,verbose=2)"
   ]
  },
  {
   "cell_type": "code",
   "execution_count": 26,
   "metadata": {
    "collapsed": true
   },
   "outputs": [],
   "source": [
    "seq,label = sess.run([next_seq_batch,next_label_batch])"
   ]
  },
  {
   "cell_type": "code",
   "execution_count": 29,
   "metadata": {},
   "outputs": [
    {
     "data": {
      "text/plain": [
       "(64,)"
      ]
     },
     "execution_count": 29,
     "metadata": {},
     "output_type": "execute_result"
    }
   ],
   "source": [
    "label.shape"
   ]
  },
  {
   "cell_type": "code",
   "execution_count": null,
   "metadata": {
    "collapsed": true
   },
   "outputs": [],
   "source": [
    "with open(os.path.join(data_root,\"train/wrong.txt\"),'r') as f:\n",
    "    for line in sorted(f):\n",
    "        file,pre = (line[:-1]).split()\n",
    "        if file in s_list or file in w_list:\n",
    "            continue\n",
    "        label = file.split('/')[0]\n",
    "        if label == 'silence':\n",
    "            continue\n",
    "        dst = os.path.join(data_root,\"train/wrong/\",label+'/')\n",
    "        print(file)\n",
    "        if not os.path.isdir(dst):\n",
    "            os.mkdir(dst)\n",
    "        shutil.copy(os.path.join(data_root,\"train/audio/\",file.replace(\"png\",'wav')),dst)"
   ]
  },
  {
   "cell_type": "code",
   "execution_count": 11,
   "metadata": {
    "collapsed": true
   },
   "outputs": [],
   "source": [
    "def delete_wrong_label(list_of_files):\n",
    "    for file in list_of_files:\n",
    "        filename = file.replace(\"png\",'wav')\n",
    "        label = filename.split('/')[0]\n",
    "        ori = os.path.join(data_root,\"train/audio/\",filename)\n",
    "        if not os.path.isfile(ori):\n",
    "            continue\n",
    "        else:\n",
    "            os.remove(ori)\n",
    "def move_to_silence(list_of_files):\n",
    "    for file in list_of_files:\n",
    "        filename = file.replace(\"png\",'wav')\n",
    "        label = filename.split('/')[0]\n",
    "        ori = os.path.join(data_root,\"train/audio/\",filename)\n",
    "        if not os.path.isfile(ori):\n",
    "            continue\n",
    "        dst = os.path.join(data_root,\"train/\",filename.replace(label+\"/\",\"silence/\"+label+\"_\"))\n",
    "        print(dst)\n",
    "        shutil.move(ori,dst)"
   ]
  },
  {
   "cell_type": "code",
   "execution_count": 12,
   "metadata": {
    "collapsed": true
   },
   "outputs": [
    {
     "name": "stdout",
     "output_type": "stream",
     "text": [
      "/home/philip/Files/Keyword_spot/train/silence/on_7fd25f7c_nohash_3.wav\n",
      "/home/philip/Files/Keyword_spot/train/silence/cat_1bc45db9_nohash_0.wav\n",
      "/home/philip/Files/Keyword_spot/train/silence/bird_3e7124ba_nohash_0.wav\n",
      "/home/philip/Files/Keyword_spot/train/silence/off_05b2db80_nohash_0.wav\n",
      "/home/philip/Files/Keyword_spot/train/silence/nine_05b2db80_nohash_0.wav\n",
      "/home/philip/Files/Keyword_spot/train/silence/house_5e3dde6b_nohash_0.wav\n",
      "/home/philip/Files/Keyword_spot/train/silence/sheila_7c1d8533_nohash_0.wav\n",
      "/home/philip/Files/Keyword_spot/train/silence/stop_7fd25f7c_nohash_1.wav\n",
      "/home/philip/Files/Keyword_spot/train/silence/dog_29fb33da_nohash_0.wav\n",
      "/home/philip/Files/Keyword_spot/train/silence/left_686d030b_nohash_1.wav\n",
      "/home/philip/Files/Keyword_spot/train/silence/marvin_712e4d58_nohash_0.wav\n",
      "/home/philip/Files/Keyword_spot/train/silence/nine_aff582a1_nohash_2.wav\n",
      "/home/philip/Files/Keyword_spot/train/silence/wow_cc6ee39b_nohash_0.wav\n",
      "/home/philip/Files/Keyword_spot/train/silence/stop_ce7a8e92_nohash_1.wav\n",
      "/home/philip/Files/Keyword_spot/train/silence/left_ced835d3_nohash_4.wav\n",
      "/home/philip/Files/Keyword_spot/train/silence/nine_fd395b74_nohash_1.wav\n",
      "/home/philip/Files/Keyword_spot/train/silence/bed_e96a5020_nohash_0.wav\n",
      "/home/philip/Files/Keyword_spot/train/silence/dog_6c429c7b_nohash_0.wav\n",
      "/home/philip/Files/Keyword_spot/train/silence/dog_b959cd0c_nohash_0.wav\n",
      "/home/philip/Files/Keyword_spot/train/silence/down_05b2db80_nohash_2.wav\n",
      "/home/philip/Files/Keyword_spot/train/silence/down_cd85758f_nohash_0.wav\n",
      "/home/philip/Files/Keyword_spot/train/silence/down_fd395b74_nohash_4.wav\n",
      "/home/philip/Files/Keyword_spot/train/silence/eight_712e4d58_nohash_2.wav\n",
      "/home/philip/Files/Keyword_spot/train/silence/eight_712e4d58_nohash_4.wav\n",
      "/home/philip/Files/Keyword_spot/train/silence/eight_c93d5e22_nohash_4.wav\n",
      "/home/philip/Files/Keyword_spot/train/silence/eight_e96a5020_nohash_1.wav\n",
      "/home/philip/Files/Keyword_spot/train/silence/eight_fd395b74_nohash_1.wav\n",
      "/home/philip/Files/Keyword_spot/train/silence/five_834f03fe_nohash_1.wav\n",
      "/home/philip/Files/Keyword_spot/train/silence/five_bdee441c_nohash_4.wav\n",
      "/home/philip/Files/Keyword_spot/train/silence/four_e5dadd24_nohash_0.wav\n",
      "/home/philip/Files/Keyword_spot/train/silence/four_fd395b74_nohash_3.wav\n",
      "/home/philip/Files/Keyword_spot/train/silence/happy_1fd85ee4_nohash_1.wav\n",
      "/home/philip/Files/Keyword_spot/train/silence/happy_1fd85ee4_nohash_2.wav\n",
      "/home/philip/Files/Keyword_spot/train/silence/happy_b959cd0c_nohash_0.wav\n",
      "/home/philip/Files/Keyword_spot/train/silence/house_e96a5020_nohash_0.wav\n",
      "/home/philip/Files/Keyword_spot/train/silence/house_fd395b74_nohash_0.wav\n",
      "/home/philip/Files/Keyword_spot/train/silence/left_e96a5020_nohash_2.wav\n",
      "/home/philip/Files/Keyword_spot/train/silence/marvin_3ea77ede_nohash_0.wav\n",
      "/home/philip/Files/Keyword_spot/train/silence/marvin_f8f60f59_nohash_0.wav\n",
      "/home/philip/Files/Keyword_spot/train/silence/nine_0132a06d_nohash_3.wav\n",
      "/home/philip/Files/Keyword_spot/train/silence/nine_3d53244b_nohash_3.wav\n",
      "/home/philip/Files/Keyword_spot/train/silence/nine_3d53244b_nohash_4.wav\n",
      "/home/philip/Files/Keyword_spot/train/silence/nine_c0445658_nohash_4.wav\n",
      "/home/philip/Files/Keyword_spot/train/silence/nine_ced835d3_nohash_1.wav\n",
      "/home/philip/Files/Keyword_spot/train/silence/nine_e96a5020_nohash_2.wav\n",
      "/home/philip/Files/Keyword_spot/train/silence/no_712e4d58_nohash_4.wav\n",
      "/home/philip/Files/Keyword_spot/train/silence/no_e96a5020_nohash_0.wav\n",
      "/home/philip/Files/Keyword_spot/train/silence/off_735845ab_nohash_2.wav\n",
      "/home/philip/Files/Keyword_spot/train/silence/off_e96a5020_nohash_1.wav\n",
      "/home/philip/Files/Keyword_spot/train/silence/off_fd395b74_nohash_1.wav\n",
      "/home/philip/Files/Keyword_spot/train/silence/on_92a9c5e6_nohash_3.wav\n",
      "/home/philip/Files/Keyword_spot/train/silence/on_d197e3ae_nohash_2.wav\n",
      "/home/philip/Files/Keyword_spot/train/silence/on_e96a5020_nohash_0.wav\n",
      "/home/philip/Files/Keyword_spot/train/silence/on_fd395b74_nohash_1.wav\n",
      "/home/philip/Files/Keyword_spot/train/silence/on_fd395b74_nohash_3.wav\n",
      "/home/philip/Files/Keyword_spot/train/silence/one_b959cd0c_nohash_3.wav\n",
      "/home/philip/Files/Keyword_spot/train/silence/one_e96a5020_nohash_2.wav\n",
      "/home/philip/Files/Keyword_spot/train/silence/right_190821dc_nohash_2.wav\n",
      "/home/philip/Files/Keyword_spot/train/silence/right_77def3ee_nohash_1.wav\n",
      "/home/philip/Files/Keyword_spot/train/silence/right_b959cd0c_nohash_4.wav\n",
      "/home/philip/Files/Keyword_spot/train/silence/right_be7a5b2d_nohash_3.wav\n",
      "/home/philip/Files/Keyword_spot/train/silence/right_ced835d3_nohash_0.wav\n",
      "/home/philip/Files/Keyword_spot/train/silence/right_e96a5020_nohash_0.wav\n",
      "/home/philip/Files/Keyword_spot/train/silence/right_e96a5020_nohash_1.wav\n",
      "/home/philip/Files/Keyword_spot/train/silence/right_e96a5020_nohash_2.wav\n",
      "/home/philip/Files/Keyword_spot/train/silence/right_e96a5020_nohash_4.wav\n",
      "/home/philip/Files/Keyword_spot/train/silence/seven_39a12648_nohash_4.wav\n",
      "/home/philip/Files/Keyword_spot/train/silence/seven_686d030b_nohash_4.wav\n",
      "/home/philip/Files/Keyword_spot/train/silence/seven_7846fd85_nohash_0.wav\n",
      "/home/philip/Files/Keyword_spot/train/silence/seven_c0445658_nohash_3.wav\n",
      "/home/philip/Files/Keyword_spot/train/silence/sheila_05b2db80_nohash_1.wav\n",
      "/home/philip/Files/Keyword_spot/train/silence/sheila_e53139ad_nohash_0.wav\n",
      "/home/philip/Files/Keyword_spot/train/silence/six_712e4d58_nohash_1.wav\n",
      "/home/philip/Files/Keyword_spot/train/silence/six_cc6ee39b_nohash_1.wav\n",
      "/home/philip/Files/Keyword_spot/train/silence/stop_b87bdb22_nohash_0.wav\n",
      "/home/philip/Files/Keyword_spot/train/silence/three_28ed6bc9_nohash_1.wav\n",
      "/home/philip/Files/Keyword_spot/train/silence/three_b959cd0c_nohash_0.wav\n",
      "/home/philip/Files/Keyword_spot/train/silence/three_dbb40d24_nohash_3.wav\n",
      "/home/philip/Files/Keyword_spot/train/silence/three_ee4a907f_nohash_1.wav\n",
      "/home/philip/Files/Keyword_spot/train/silence/three_fd395b74_nohash_2.wav\n",
      "/home/philip/Files/Keyword_spot/train/silence/tree_b959cd0c_nohash_0.wav\n",
      "/home/philip/Files/Keyword_spot/train/silence/tree_c0445658_nohash_0.wav\n",
      "/home/philip/Files/Keyword_spot/train/silence/two_fd395b74_nohash_4.wav\n",
      "/home/philip/Files/Keyword_spot/train/silence/up_40115b19_nohash_2.wav\n",
      "/home/philip/Files/Keyword_spot/train/silence/wow_e96a5020_nohash_0.wav\n",
      "/home/philip/Files/Keyword_spot/train/silence/wow_fd395b74_nohash_0.wav\n",
      "/home/philip/Files/Keyword_spot/train/silence/zero_b959cd0c_nohash_3.wav\n",
      "/home/philip/Files/Keyword_spot/train/silence/zero_e96a5020_nohash_1.wav\n",
      "/home/philip/Files/Keyword_spot/train/silence/zero_f8f60f59_nohash_0.wav\n",
      "/home/philip/Files/Keyword_spot/train/silence/zero_f8f60f59_nohash_3.wav\n",
      "/home/philip/Files/Keyword_spot/train/silence/zero_fd395b74_nohash_3.wav\n",
      "/home/philip/Files/Keyword_spot/train/silence/bird_e96a5020_nohash_0.wav\n",
      "/home/philip/Files/Keyword_spot/train/silence/dog_e96a5020_nohash_0.wav\n",
      "/home/philip/Files/Keyword_spot/train/silence/down_b959cd0c_nohash_4.wav\n",
      "/home/philip/Files/Keyword_spot/train/silence/down_e96a5020_nohash_0.wav\n",
      "/home/philip/Files/Keyword_spot/train/silence/down_ec201020_nohash_1.wav\n",
      "/home/philip/Files/Keyword_spot/train/silence/eight_735845ab_nohash_4.wav\n",
      "/home/philip/Files/Keyword_spot/train/silence/five_fd395b74_nohash_2.wav\n",
      "/home/philip/Files/Keyword_spot/train/silence/go_e5dadd24_nohash_0.wav\n",
      "/home/philip/Files/Keyword_spot/train/silence/marvin_e5dadd24_nohash_0.wav\n",
      "/home/philip/Files/Keyword_spot/train/silence/off_fd395b74_nohash_2.wav\n",
      "/home/philip/Files/Keyword_spot/train/silence/one_b959cd0c_nohash_0.wav\n",
      "/home/philip/Files/Keyword_spot/train/silence/right_735845ab_nohash_0.wav\n",
      "/home/philip/Files/Keyword_spot/train/silence/sheila_b9f46737_nohash_1.wav\n",
      "/home/philip/Files/Keyword_spot/train/silence/two_e96a5020_nohash_0.wav\n",
      "/home/philip/Files/Keyword_spot/train/silence/zero_ce7a8e92_nohash_2.wav\n",
      "/home/philip/Files/Keyword_spot/train/silence/bed_b959cd0c_nohash_0.wav\n",
      "/home/philip/Files/Keyword_spot/train/silence/bird_1bc45db9_nohash_0.wav\n",
      "/home/philip/Files/Keyword_spot/train/silence/bird_1bc45db9_nohash_1.wav\n",
      "/home/philip/Files/Keyword_spot/train/silence/bird_b959cd0c_nohash_0.wav\n",
      "/home/philip/Files/Keyword_spot/train/silence/bird_ced835d3_nohash_0.wav\n",
      "/home/philip/Files/Keyword_spot/train/silence/bird_fd395b74_nohash_0.wav\n",
      "/home/philip/Files/Keyword_spot/train/silence/cat_b959cd0c_nohash_0.wav\n",
      "/home/philip/Files/Keyword_spot/train/silence/cat_ced835d3_nohash_0.wav\n",
      "/home/philip/Files/Keyword_spot/train/silence/cat_dbb40d24_nohash_0.wav\n",
      "/home/philip/Files/Keyword_spot/train/silence/cat_e96a5020_nohash_0.wav\n",
      "/home/philip/Files/Keyword_spot/train/silence/cat_fd395b74_nohash_0.wav\n",
      "/home/philip/Files/Keyword_spot/train/silence/dog_ced835d3_nohash_0.wav\n",
      "/home/philip/Files/Keyword_spot/train/silence/dog_fd395b74_nohash_0.wav\n",
      "/home/philip/Files/Keyword_spot/train/silence/dog_3f2b358d_nohash_0.wav\n",
      "/home/philip/Files/Keyword_spot/train/silence/down_3bfd30e6_nohash_1.wav\n",
      "/home/philip/Files/Keyword_spot/train/silence/down_4a1e736b_nohash_4.wav\n",
      "/home/philip/Files/Keyword_spot/train/silence/down_888a0c49_nohash_3.wav\n",
      "/home/philip/Files/Keyword_spot/train/silence/down_b959cd0c_nohash_0.wav\n",
      "/home/philip/Files/Keyword_spot/train/silence/down_b959cd0c_nohash_1.wav\n",
      "/home/philip/Files/Keyword_spot/train/silence/down_b959cd0c_nohash_2.wav\n",
      "/home/philip/Files/Keyword_spot/train/silence/down_c0445658_nohash_4.wav\n",
      "/home/philip/Files/Keyword_spot/train/silence/down_d90b4138_nohash_2.wav\n",
      "/home/philip/Files/Keyword_spot/train/silence/down_e96a5020_nohash_1.wav\n",
      "/home/philip/Files/Keyword_spot/train/silence/down_e96a5020_nohash_2.wav\n",
      "/home/philip/Files/Keyword_spot/train/silence/down_fd395b74_nohash_1.wav\n",
      "/home/philip/Files/Keyword_spot/train/silence/eight_122c5aa7_nohash_1.wav\n",
      "/home/philip/Files/Keyword_spot/train/silence/eight_2b3f509b_nohash_0.wav\n",
      "/home/philip/Files/Keyword_spot/train/silence/eight_3bfd30e6_nohash_4.wav\n",
      "/home/philip/Files/Keyword_spot/train/silence/eight_3c257192_nohash_1.wav\n",
      "/home/philip/Files/Keyword_spot/train/silence/eight_53eb0a88_nohash_1.wav\n",
      "/home/philip/Files/Keyword_spot/train/silence/eight_61e50f62_nohash_0.wav\n",
      "/home/philip/Files/Keyword_spot/train/silence/eight_712e4d58_nohash_1.wav\n",
      "/home/philip/Files/Keyword_spot/train/silence/eight_7fd25f7c_nohash_2.wav\n",
      "/home/philip/Files/Keyword_spot/train/silence/eight_951cac20_nohash_0.wav\n",
      "/home/philip/Files/Keyword_spot/train/silence/eight_b959cd0c_nohash_1.wav\n",
      "/home/philip/Files/Keyword_spot/train/silence/eight_b959cd0c_nohash_2.wav\n",
      "/home/philip/Files/Keyword_spot/train/silence/eight_b959cd0c_nohash_3.wav\n",
      "/home/philip/Files/Keyword_spot/train/silence/eight_b959cd0c_nohash_4.wav\n",
      "/home/philip/Files/Keyword_spot/train/silence/eight_ced835d3_nohash_1.wav\n",
      "/home/philip/Files/Keyword_spot/train/silence/eight_ced835d3_nohash_3.wav\n",
      "/home/philip/Files/Keyword_spot/train/silence/eight_ced835d3_nohash_4.wav\n",
      "/home/philip/Files/Keyword_spot/train/silence/eight_e96a5020_nohash_0.wav\n",
      "/home/philip/Files/Keyword_spot/train/silence/eight_f5733968_nohash_2.wav\n",
      "/home/philip/Files/Keyword_spot/train/silence/eight_f8f60f59_nohash_2.wav\n",
      "/home/philip/Files/Keyword_spot/train/silence/eight_fd395b74_nohash_3.wav\n",
      "/home/philip/Files/Keyword_spot/train/silence/five_122c5aa7_nohash_1.wav\n",
      "/home/philip/Files/Keyword_spot/train/silence/five_3f2b358d_nohash_2.wav\n",
      "/home/philip/Files/Keyword_spot/train/silence/five_5fadb538_nohash_3.wav\n",
      "/home/philip/Files/Keyword_spot/train/silence/five_763188c4_nohash_2.wav\n",
      "/home/philip/Files/Keyword_spot/train/silence/five_a6d586b7_nohash_0.wav\n",
      "/home/philip/Files/Keyword_spot/train/silence/five_b959cd0c_nohash_0.wav\n",
      "/home/philip/Files/Keyword_spot/train/silence/five_b959cd0c_nohash_2.wav\n",
      "/home/philip/Files/Keyword_spot/train/silence/five_b959cd0c_nohash_3.wav\n",
      "/home/philip/Files/Keyword_spot/train/silence/five_b959cd0c_nohash_4.wav\n",
      "/home/philip/Files/Keyword_spot/train/silence/five_b9f46737_nohash_2.wav\n",
      "/home/philip/Files/Keyword_spot/train/silence/five_ced835d3_nohash_0.wav\n",
      "/home/philip/Files/Keyword_spot/train/silence/five_ced835d3_nohash_3.wav\n",
      "/home/philip/Files/Keyword_spot/train/silence/five_d197e3ae_nohash_1.wav\n",
      "/home/philip/Files/Keyword_spot/train/silence/five_e96a5020_nohash_0.wav\n",
      "/home/philip/Files/Keyword_spot/train/silence/five_e96a5020_nohash_1.wav\n",
      "/home/philip/Files/Keyword_spot/train/silence/five_e96a5020_nohash_2.wav\n",
      "/home/philip/Files/Keyword_spot/train/silence/five_fd395b74_nohash_0.wav\n",
      "/home/philip/Files/Keyword_spot/train/silence/four_0137b3f4_nohash_3.wav\n",
      "/home/philip/Files/Keyword_spot/train/silence/four_190821dc_nohash_4.wav\n",
      "/home/philip/Files/Keyword_spot/train/silence/four_51055bda_nohash_3.wav\n",
      "/home/philip/Files/Keyword_spot/train/silence/four_611d2b50_nohash_1.wav\n",
      "/home/philip/Files/Keyword_spot/train/silence/four_6727b579_nohash_0.wav\n",
      "/home/philip/Files/Keyword_spot/train/silence/four_ad63d93c_nohash_1.wav\n",
      "/home/philip/Files/Keyword_spot/train/silence/four_b959cd0c_nohash_0.wav\n",
      "/home/philip/Files/Keyword_spot/train/silence/four_b959cd0c_nohash_2.wav\n",
      "/home/philip/Files/Keyword_spot/train/silence/four_b959cd0c_nohash_4.wav\n",
      "/home/philip/Files/Keyword_spot/train/silence/four_c0445658_nohash_1.wav\n",
      "/home/philip/Files/Keyword_spot/train/silence/four_c93d5e22_nohash_0.wav\n",
      "/home/philip/Files/Keyword_spot/train/silence/four_ced835d3_nohash_0.wav\n",
      "/home/philip/Files/Keyword_spot/train/silence/four_d197e3ae_nohash_4.wav\n",
      "/home/philip/Files/Keyword_spot/train/silence/four_e53139ad_nohash_0.wav\n",
      "/home/philip/Files/Keyword_spot/train/silence/four_e96a5020_nohash_0.wav\n",
      "/home/philip/Files/Keyword_spot/train/silence/four_e96a5020_nohash_1.wav\n",
      "/home/philip/Files/Keyword_spot/train/silence/go_1bc45db9_nohash_0.wav\n",
      "/home/philip/Files/Keyword_spot/train/silence/go_1bc45db9_nohash_1.wav\n",
      "/home/philip/Files/Keyword_spot/train/silence/go_7fd25f7c_nohash_4.wav\n",
      "/home/philip/Files/Keyword_spot/train/silence/go_15c563d7_nohash_0.wav\n",
      "/home/philip/Files/Keyword_spot/train/silence/go_92a9c5e6_nohash_4.wav\n",
      "/home/philip/Files/Keyword_spot/train/silence/go_611d2b50_nohash_2.wav\n",
      "/home/philip/Files/Keyword_spot/train/silence/go_712e4d58_nohash_2.wav\n",
      "/home/philip/Files/Keyword_spot/train/silence/go_b959cd0c_nohash_0.wav\n",
      "/home/philip/Files/Keyword_spot/train/silence/go_b959cd0c_nohash_1.wav\n",
      "/home/philip/Files/Keyword_spot/train/silence/go_b959cd0c_nohash_3.wav\n",
      "/home/philip/Files/Keyword_spot/train/silence/go_c0445658_nohash_3.wav\n",
      "/home/philip/Files/Keyword_spot/train/silence/go_d90b4138_nohash_4.wav\n",
      "/home/philip/Files/Keyword_spot/train/silence/go_e96a5020_nohash_0.wav\n",
      "/home/philip/Files/Keyword_spot/train/silence/go_e96a5020_nohash_1.wav\n",
      "/home/philip/Files/Keyword_spot/train/silence/go_f8f60f59_nohash_0.wav\n",
      "/home/philip/Files/Keyword_spot/train/silence/go_f8f60f59_nohash_2.wav\n",
      "/home/philip/Files/Keyword_spot/train/silence/happy_ced835d3_nohash_0.wav\n",
      "/home/philip/Files/Keyword_spot/train/silence/happy_1fd85ee4_nohash_0.wav\n",
      "/home/philip/Files/Keyword_spot/train/silence/happy_2da58b32_nohash_0.wav\n",
      "/home/philip/Files/Keyword_spot/train/silence/house_ced835d3_nohash_0.wav\n",
      "/home/philip/Files/Keyword_spot/train/silence/left_2b3f509b_nohash_1.wav\n",
      "/home/philip/Files/Keyword_spot/train/silence/left_3bfd30e6_nohash_0.wav\n",
      "/home/philip/Files/Keyword_spot/train/silence/left_8f4c551f_nohash_3.wav\n",
      "/home/philip/Files/Keyword_spot/train/silence/left_712e4d58_nohash_2.wav\n",
      "/home/philip/Files/Keyword_spot/train/silence/left_a6d586b7_nohash_4.wav\n",
      "/home/philip/Files/Keyword_spot/train/silence/left_b959cd0c_nohash_1.wav\n",
      "/home/philip/Files/Keyword_spot/train/silence/left_b959cd0c_nohash_2.wav\n",
      "/home/philip/Files/Keyword_spot/train/silence/left_b959cd0c_nohash_4.wav\n",
      "/home/philip/Files/Keyword_spot/train/silence/left_be7a5b2d_nohash_0.wav\n",
      "/home/philip/Files/Keyword_spot/train/silence/left_cd85758f_nohash_2.wav\n",
      "/home/philip/Files/Keyword_spot/train/silence/left_e53139ad_nohash_3.wav\n",
      "/home/philip/Files/Keyword_spot/train/silence/left_e96a5020_nohash_1.wav\n",
      "/home/philip/Files/Keyword_spot/train/silence/left_fd395b74_nohash_1.wav\n",
      "/home/philip/Files/Keyword_spot/train/silence/marvin_24ad3ebe_nohash_1.wav\n",
      "/home/philip/Files/Keyword_spot/train/silence/marvin_563aa4e6_nohash_0.wav\n",
      "/home/philip/Files/Keyword_spot/train/silence/marvin_a6d586b7_nohash_0.wav\n",
      "/home/philip/Files/Keyword_spot/train/silence/marvin_b959cd0c_nohash_0.wav\n",
      "/home/philip/Files/Keyword_spot/train/silence/marvin_ced835d3_nohash_0.wav\n",
      "/home/philip/Files/Keyword_spot/train/silence/marvin_fd395b74_nohash_0.wav\n",
      "/home/philip/Files/Keyword_spot/train/silence/nine_1fd85ee4_nohash_1.wav\n",
      "/home/philip/Files/Keyword_spot/train/silence/nine_2b3f509b_nohash_0.wav\n",
      "/home/philip/Files/Keyword_spot/train/silence/nine_36050ef3_nohash_0.wav\n",
      "/home/philip/Files/Keyword_spot/train/silence/nine_3f2b358d_nohash_0.wav\n",
      "/home/philip/Files/Keyword_spot/train/silence/nine_3f2b358d_nohash_1.wav\n",
      "/home/philip/Files/Keyword_spot/train/silence/nine_b959cd0c_nohash_0.wav\n",
      "/home/philip/Files/Keyword_spot/train/silence/nine_ced835d3_nohash_2.wav\n",
      "/home/philip/Files/Keyword_spot/train/silence/nine_ced835d3_nohash_4.wav\n",
      "/home/philip/Files/Keyword_spot/train/silence/nine_dbb40d24_nohash_1.wav\n",
      "/home/philip/Files/Keyword_spot/train/silence/nine_e0315cf6_nohash_0.wav\n",
      "/home/philip/Files/Keyword_spot/train/silence/nine_e96a5020_nohash_0.wav\n",
      "/home/philip/Files/Keyword_spot/train/silence/nine_e96a5020_nohash_1.wav\n",
      "/home/philip/Files/Keyword_spot/train/silence/nine_f17be97f_nohash_4.wav\n",
      "/home/philip/Files/Keyword_spot/train/silence/nine_f8f60f59_nohash_4.wav\n",
      "/home/philip/Files/Keyword_spot/train/silence/nine_fd395b74_nohash_0.wav\n",
      "/home/philip/Files/Keyword_spot/train/silence/nine_fd395b74_nohash_2.wav\n",
      "/home/philip/Files/Keyword_spot/train/silence/no_5c39594f_nohash_1.wav\n",
      "/home/philip/Files/Keyword_spot/train/silence/no_b959cd0c_nohash_3.wav\n",
      "/home/philip/Files/Keyword_spot/train/silence/no_e96a5020_nohash_2.wav\n",
      "/home/philip/Files/Keyword_spot/train/silence/no_f8f60f59_nohash_0.wav\n",
      "/home/philip/Files/Keyword_spot/train/silence/no_fd395b74_nohash_1.wav\n",
      "/home/philip/Files/Keyword_spot/train/silence/no_fd395b74_nohash_3.wav\n",
      "/home/philip/Files/Keyword_spot/train/silence/off_2b3f509b_nohash_0.wav\n",
      "/home/philip/Files/Keyword_spot/train/silence/off_36050ef3_nohash_4.wav\n",
      "/home/philip/Files/Keyword_spot/train/silence/off_38d78313_nohash_0.wav\n",
      "/home/philip/Files/Keyword_spot/train/silence/off_3d53244b_nohash_4.wav\n",
      "/home/philip/Files/Keyword_spot/train/silence/off_65f2531f_nohash_0.wav\n",
      "/home/philip/Files/Keyword_spot/train/silence/off_6727b579_nohash_2.wav\n",
      "/home/philip/Files/Keyword_spot/train/silence/off_92a9c5e6_nohash_1.wav\n",
      "/home/philip/Files/Keyword_spot/train/silence/off_aff582a1_nohash_2.wav\n",
      "/home/philip/Files/Keyword_spot/train/silence/off_b9f46737_nohash_2.wav\n",
      "/home/philip/Files/Keyword_spot/train/silence/off_bab36420_nohash_0.wav\n",
      "/home/philip/Files/Keyword_spot/train/silence/off_c93d5e22_nohash_1.wav\n",
      "/home/philip/Files/Keyword_spot/train/silence/off_ec201020_nohash_3.wav\n",
      "/home/philip/Files/Keyword_spot/train/silence/off_f17be97f_nohash_2.wav\n",
      "/home/philip/Files/Keyword_spot/train/silence/off_f8f60f59_nohash_1.wav\n",
      "/home/philip/Files/Keyword_spot/train/silence/off_f953e1af_nohash_2.wav\n",
      "/home/philip/Files/Keyword_spot/train/silence/off_fd395b74_nohash_0.wav\n",
      "/home/philip/Files/Keyword_spot/train/silence/off_fd395b74_nohash_3.wav\n",
      "/home/philip/Files/Keyword_spot/train/silence/off_fd395b74_nohash_4.wav\n",
      "/home/philip/Files/Keyword_spot/train/silence/on_099d52ad_nohash_3.wav\n",
      "/home/philip/Files/Keyword_spot/train/silence/on_6c429c7b_nohash_0.wav\n",
      "/home/philip/Files/Keyword_spot/train/silence/on_712e4d58_nohash_4.wav\n",
      "/home/philip/Files/Keyword_spot/train/silence/on_763188c4_nohash_2.wav\n",
      "/home/philip/Files/Keyword_spot/train/silence/on_a6d586b7_nohash_4.wav\n",
      "/home/philip/Files/Keyword_spot/train/silence/on_b87bdb22_nohash_0.wav\n",
      "/home/philip/Files/Keyword_spot/train/silence/on_b959cd0c_nohash_0.wav\n",
      "/home/philip/Files/Keyword_spot/train/silence/on_b959cd0c_nohash_1.wav\n",
      "/home/philip/Files/Keyword_spot/train/silence/on_b959cd0c_nohash_3.wav\n",
      "/home/philip/Files/Keyword_spot/train/silence/on_ced835d3_nohash_3.wav\n",
      "/home/philip/Files/Keyword_spot/train/silence/on_dea820ce_nohash_2.wav\n",
      "/home/philip/Files/Keyword_spot/train/silence/on_e5dadd24_nohash_0.wav\n",
      "/home/philip/Files/Keyword_spot/train/silence/on_e96a5020_nohash_1.wav\n",
      "/home/philip/Files/Keyword_spot/train/silence/on_e96a5020_nohash_2.wav\n",
      "/home/philip/Files/Keyword_spot/train/silence/on_ec201020_nohash_1.wav\n",
      "/home/philip/Files/Keyword_spot/train/silence/on_ec201020_nohash_4.wav\n",
      "/home/philip/Files/Keyword_spot/train/silence/on_f953e1af_nohash_1.wav\n",
      "/home/philip/Files/Keyword_spot/train/silence/one_7fd25f7c_nohash_3.wav\n",
      "/home/philip/Files/Keyword_spot/train/silence/one_35d1b6ee_nohash_4.wav\n",
      "/home/philip/Files/Keyword_spot/train/silence/one_190821dc_nohash_4.wav\n",
      "/home/philip/Files/Keyword_spot/train/silence/one_763188c4_nohash_2.wav\n",
      "/home/philip/Files/Keyword_spot/train/silence/one_ced835d3_nohash_1.wav\n",
      "/home/philip/Files/Keyword_spot/train/silence/one_ced835d3_nohash_3.wav\n",
      "/home/philip/Files/Keyword_spot/train/silence/one_ced835d3_nohash_4.wav\n",
      "/home/philip/Files/Keyword_spot/train/silence/one_d197e3ae_nohash_4.wav\n",
      "/home/philip/Files/Keyword_spot/train/silence/one_dea820ce_nohash_1.wav\n",
      "/home/philip/Files/Keyword_spot/train/silence/one_e96a5020_nohash_0.wav\n",
      "/home/philip/Files/Keyword_spot/train/silence/one_e96a5020_nohash_1.wav\n",
      "/home/philip/Files/Keyword_spot/train/silence/one_f8f60f59_nohash_1.wav\n",
      "/home/philip/Files/Keyword_spot/train/silence/one_f8f60f59_nohash_4.wav\n",
      "/home/philip/Files/Keyword_spot/train/silence/one_fd395b74_nohash_1.wav\n",
      "/home/philip/Files/Keyword_spot/train/silence/one_fd395b74_nohash_4.wav\n",
      "/home/philip/Files/Keyword_spot/train/silence/right_3f2b358d_nohash_0.wav\n",
      "/home/philip/Files/Keyword_spot/train/silence/right_8f4c551f_nohash_0.wav\n",
      "/home/philip/Files/Keyword_spot/train/silence/right_29fb33da_nohash_4.wav\n",
      "/home/philip/Files/Keyword_spot/train/silence/right_122c5aa7_nohash_4.wav\n",
      "/home/philip/Files/Keyword_spot/train/silence/right_264f471d_nohash_4.wav\n",
      "/home/philip/Files/Keyword_spot/train/silence/right_563aa4e6_nohash_1.wav\n",
      "/home/philip/Files/Keyword_spot/train/silence/right_a6d586b7_nohash_1.wav\n",
      "/home/philip/Files/Keyword_spot/train/silence/right_b7a0754f_nohash_3.wav\n",
      "/home/philip/Files/Keyword_spot/train/silence/right_b959cd0c_nohash_1.wav\n",
      "/home/philip/Files/Keyword_spot/train/silence/right_b959cd0c_nohash_2.wav\n",
      "/home/philip/Files/Keyword_spot/train/silence/right_b959cd0c_nohash_3.wav\n",
      "/home/philip/Files/Keyword_spot/train/silence/right_ced835d3_nohash_1.wav\n",
      "/home/philip/Files/Keyword_spot/train/silence/right_ced835d3_nohash_2.wav\n",
      "/home/philip/Files/Keyword_spot/train/silence/right_e96a5020_nohash_3.wav\n",
      "/home/philip/Files/Keyword_spot/train/silence/right_ec201020_nohash_0.wav\n",
      "/home/philip/Files/Keyword_spot/train/silence/right_fd395b74_nohash_0.wav\n",
      "/home/philip/Files/Keyword_spot/train/silence/seven_099d52ad_nohash_4.wav\n",
      "/home/philip/Files/Keyword_spot/train/silence/seven_38d78313_nohash_2.wav\n",
      "/home/philip/Files/Keyword_spot/train/silence/seven_3f2b358d_nohash_0.wav\n",
      "/home/philip/Files/Keyword_spot/train/silence/seven_5fadb538_nohash_4.wav\n",
      "/home/philip/Files/Keyword_spot/train/silence/seven_712e4d58_nohash_2.wav\n",
      "/home/philip/Files/Keyword_spot/train/silence/seven_8f4c551f_nohash_4.wav\n",
      "/home/philip/Files/Keyword_spot/train/silence/seven_b87bdb22_nohash_0.wav\n",
      "/home/philip/Files/Keyword_spot/train/silence/seven_b959cd0c_nohash_0.wav\n",
      "/home/philip/Files/Keyword_spot/train/silence/seven_b959cd0c_nohash_2.wav\n",
      "/home/philip/Files/Keyword_spot/train/silence/seven_b959cd0c_nohash_3.wav\n",
      "/home/philip/Files/Keyword_spot/train/silence/seven_b959cd0c_nohash_4.wav\n",
      "/home/philip/Files/Keyword_spot/train/silence/seven_e96a5020_nohash_0.wav\n",
      "/home/philip/Files/Keyword_spot/train/silence/seven_e96a5020_nohash_1.wav\n",
      "/home/philip/Files/Keyword_spot/train/silence/seven_eb3f7d82_nohash_3.wav\n",
      "/home/philip/Files/Keyword_spot/train/silence/seven_fd395b74_nohash_0.wav\n",
      "/home/philip/Files/Keyword_spot/train/silence/seven_fd395b74_nohash_1.wav\n",
      "/home/philip/Files/Keyword_spot/train/silence/seven_fd395b74_nohash_3.wav\n",
      "/home/philip/Files/Keyword_spot/train/silence/sheila_264f471d_nohash_0.wav\n",
      "/home/philip/Files/Keyword_spot/train/silence/sheila_49af4432_nohash_0.wav\n",
      "/home/philip/Files/Keyword_spot/train/silence/sheila_563aa4e6_nohash_0.wav\n",
      "/home/philip/Files/Keyword_spot/train/silence/sheila_a6d586b7_nohash_0.wav\n",
      "/home/philip/Files/Keyword_spot/train/silence/sheila_b959cd0c_nohash_0.wav\n",
      "/home/philip/Files/Keyword_spot/train/silence/sheila_b9f46737_nohash_0.wav\n",
      "/home/philip/Files/Keyword_spot/train/silence/sheila_e1469561_nohash_0.wav\n",
      "/home/philip/Files/Keyword_spot/train/silence/sheila_fd395b74_nohash_0.wav\n",
      "/home/philip/Files/Keyword_spot/train/silence/six_190821dc_nohash_4.wav\n",
      "/home/philip/Files/Keyword_spot/train/silence/six_611d2b50_nohash_0.wav\n",
      "/home/philip/Files/Keyword_spot/train/silence/six_712e4d58_nohash_0.wav\n",
      "/home/philip/Files/Keyword_spot/train/silence/six_7e7f0ed6_nohash_1.wav\n",
      "/home/philip/Files/Keyword_spot/train/silence/six_92a9c5e6_nohash_2.wav\n",
      "/home/philip/Files/Keyword_spot/train/silence/six_b959cd0c_nohash_0.wav\n",
      "/home/philip/Files/Keyword_spot/train/silence/six_b959cd0c_nohash_4.wav\n",
      "/home/philip/Files/Keyword_spot/train/silence/six_ced835d3_nohash_3.wav\n",
      "/home/philip/Files/Keyword_spot/train/silence/six_e96a5020_nohash_0.wav\n",
      "/home/philip/Files/Keyword_spot/train/silence/six_e96a5020_nohash_1.wav\n",
      "/home/philip/Files/Keyword_spot/train/silence/six_e96a5020_nohash_2.wav\n",
      "/home/philip/Files/Keyword_spot/train/silence/six_f8f60f59_nohash_0.wav\n",
      "/home/philip/Files/Keyword_spot/train/silence/six_fd395b74_nohash_2.wav\n",
      "/home/philip/Files/Keyword_spot/train/silence/six_fd395b74_nohash_4.wav\n",
      "/home/philip/Files/Keyword_spot/train/silence/stop_190821dc_nohash_3.wav\n",
      "/home/philip/Files/Keyword_spot/train/silence/stop_1fd85ee4_nohash_0.wav\n",
      "/home/philip/Files/Keyword_spot/train/silence/stop_3df9a3d4_nohash_0.wav\n",
      "/home/philip/Files/Keyword_spot/train/silence/stop_9ff2d2f4_nohash_1.wav\n",
      "/home/philip/Files/Keyword_spot/train/silence/stop_aff582a1_nohash_4.wav\n",
      "/home/philip/Files/Keyword_spot/train/silence/stop_b9515bf3_nohash_2.wav\n",
      "/home/philip/Files/Keyword_spot/train/silence/stop_b959cd0c_nohash_0.wav\n",
      "/home/philip/Files/Keyword_spot/train/silence/stop_b959cd0c_nohash_4.wav\n",
      "/home/philip/Files/Keyword_spot/train/silence/stop_d9462202_nohash_0.wav\n",
      "/home/philip/Files/Keyword_spot/train/silence/stop_e96a5020_nohash_0.wav\n",
      "/home/philip/Files/Keyword_spot/train/silence/stop_e96a5020_nohash_1.wav\n",
      "/home/philip/Files/Keyword_spot/train/silence/stop_eb3f7d82_nohash_4.wav\n",
      "/home/philip/Files/Keyword_spot/train/silence/stop_ec201020_nohash_3.wav\n",
      "/home/philip/Files/Keyword_spot/train/silence/stop_f8f60f59_nohash_0.wav\n",
      "/home/philip/Files/Keyword_spot/train/silence/stop_f8f60f59_nohash_1.wav\n",
      "/home/philip/Files/Keyword_spot/train/silence/stop_fd395b74_nohash_0.wav\n",
      "/home/philip/Files/Keyword_spot/train/silence/stop_fd395b74_nohash_2.wav\n",
      "/home/philip/Files/Keyword_spot/train/silence/three_0132a06d_nohash_1.wav\n",
      "/home/philip/Files/Keyword_spot/train/silence/three_2da58b32_nohash_1.wav\n",
      "/home/philip/Files/Keyword_spot/train/silence/three_35d1b6ee_nohash_3.wav\n",
      "/home/philip/Files/Keyword_spot/train/silence/three_39999a0f_nohash_0.wav\n",
      "/home/philip/Files/Keyword_spot/train/silence/three_3bfd30e6_nohash_4.wav\n",
      "/home/philip/Files/Keyword_spot/train/silence/three_3f2b358d_nohash_2.wav\n",
      "/home/philip/Files/Keyword_spot/train/silence/three_611d2b50_nohash_2.wav\n",
      "/home/philip/Files/Keyword_spot/train/silence/three_611d2b50_nohash_3.wav\n",
      "/home/philip/Files/Keyword_spot/train/silence/three_611d2b50_nohash_4.wav\n",
      "/home/philip/Files/Keyword_spot/train/silence/three_6727b579_nohash_4.wav\n",
      "/home/philip/Files/Keyword_spot/train/silence/three_686d030b_nohash_4.wav\n",
      "/home/philip/Files/Keyword_spot/train/silence/three_b959cd0c_nohash_1.wav\n",
      "/home/philip/Files/Keyword_spot/train/silence/three_b959cd0c_nohash_2.wav\n",
      "/home/philip/Files/Keyword_spot/train/silence/three_b959cd0c_nohash_3.wav\n",
      "/home/philip/Files/Keyword_spot/train/silence/three_b959cd0c_nohash_4.wav\n",
      "/home/philip/Files/Keyword_spot/train/silence/three_d197e3ae_nohash_1.wav\n",
      "/home/philip/Files/Keyword_spot/train/silence/three_e41a903b_nohash_4.wav\n",
      "/home/philip/Files/Keyword_spot/train/silence/three_e53139ad_nohash_0.wav\n",
      "/home/philip/Files/Keyword_spot/train/silence/three_e53139ad_nohash_2.wav\n",
      "/home/philip/Files/Keyword_spot/train/silence/three_f17be97f_nohash_1.wav\n",
      "/home/philip/Files/Keyword_spot/train/silence/three_f8f60f59_nohash_3.wav\n",
      "/home/philip/Files/Keyword_spot/train/silence/tree_3bc21161_nohash_0.wav\n",
      "/home/philip/Files/Keyword_spot/train/silence/tree_3ea77ede_nohash_0.wav\n",
      "/home/philip/Files/Keyword_spot/train/silence/tree_70a00e98_nohash_0.wav\n",
      "/home/philip/Files/Keyword_spot/train/silence/tree_264f471d_nohash_0.wav\n",
      "/home/philip/Files/Keyword_spot/train/silence/tree_fd395b74_nohash_0.wav\n",
      "/home/philip/Files/Keyword_spot/train/silence/two_3f2b358d_nohash_0.wav\n",
      "/home/philip/Files/Keyword_spot/train/silence/two_9aa21fa9_nohash_3.wav\n",
      "/home/philip/Files/Keyword_spot/train/silence/two_712e4d58_nohash_3.wav\n",
      "/home/philip/Files/Keyword_spot/train/silence/two_51055bda_nohash_4.wav\n",
      "/home/philip/Files/Keyword_spot/train/silence/two_b9f46737_nohash_4.wav\n",
      "/home/philip/Files/Keyword_spot/train/silence/two_b959cd0c_nohash_0.wav\n",
      "/home/philip/Files/Keyword_spot/train/silence/two_b959cd0c_nohash_1.wav\n",
      "/home/philip/Files/Keyword_spot/train/silence/two_b959cd0c_nohash_2.wav\n",
      "/home/philip/Files/Keyword_spot/train/silence/two_b959cd0c_nohash_3.wav\n",
      "/home/philip/Files/Keyword_spot/train/silence/two_b959cd0c_nohash_4.wav\n",
      "/home/philip/Files/Keyword_spot/train/silence/two_ced835d3_nohash_0.wav\n",
      "/home/philip/Files/Keyword_spot/train/silence/two_ced835d3_nohash_2.wav\n",
      "/home/philip/Files/Keyword_spot/train/silence/two_d197e3ae_nohash_2.wav\n",
      "/home/philip/Files/Keyword_spot/train/silence/two_e96a5020_nohash_1.wav\n",
      "/home/philip/Files/Keyword_spot/train/silence/two_ee4a907f_nohash_0.wav\n",
      "/home/philip/Files/Keyword_spot/train/silence/two_f17be97f_nohash_0.wav\n",
      "/home/philip/Files/Keyword_spot/train/silence/two_f8f60f59_nohash_1.wav\n",
      "/home/philip/Files/Keyword_spot/train/silence/two_fd395b74_nohash_0.wav\n",
      "/home/philip/Files/Keyword_spot/train/silence/two_fd395b74_nohash_1.wav\n",
      "/home/philip/Files/Keyword_spot/train/silence/up_92a9c5e6_nohash_3.wav\n",
      "/home/philip/Files/Keyword_spot/train/silence/up_122c5aa7_nohash_4.wav\n",
      "/home/philip/Files/Keyword_spot/train/silence/up_8830e17f_nohash_3.wav\n",
      "/home/philip/Files/Keyword_spot/train/silence/up_51055bda_nohash_3.wav\n",
      "/home/philip/Files/Keyword_spot/train/silence/up_ad63d93c_nohash_0.wav\n",
      "/home/philip/Files/Keyword_spot/train/silence/up_b9f46737_nohash_3.wav\n",
      "/home/philip/Files/Keyword_spot/train/silence/up_b9f46737_nohash_5.wav\n",
      "/home/philip/Files/Keyword_spot/train/silence/up_bdee441c_nohash_3.wav\n",
      "/home/philip/Files/Keyword_spot/train/silence/up_ced835d3_nohash_4.wav\n",
      "/home/philip/Files/Keyword_spot/train/silence/up_e96a5020_nohash_0.wav\n",
      "/home/philip/Files/Keyword_spot/train/silence/up_e96a5020_nohash_1.wav\n",
      "/home/philip/Files/Keyword_spot/train/silence/up_f8f60f59_nohash_3.wav\n",
      "/home/philip/Files/Keyword_spot/train/silence/up_f17be97f_nohash_4.wav\n",
      "/home/philip/Files/Keyword_spot/train/silence/up_fd395b74_nohash_1.wav\n",
      "/home/philip/Files/Keyword_spot/train/silence/up_fd395b74_nohash_2.wav\n",
      "/home/philip/Files/Keyword_spot/train/silence/up_fd395b74_nohash_3.wav\n",
      "/home/philip/Files/Keyword_spot/train/silence/wow_712e4d58_nohash_0.wav\n",
      "/home/philip/Files/Keyword_spot/train/silence/wow_b959cd0c_nohash_0.wav\n",
      "/home/philip/Files/Keyword_spot/train/silence/wow_c0445658_nohash_0.wav\n",
      "/home/philip/Files/Keyword_spot/train/silence/yes_05b2db80_nohash_0.wav\n",
      "/home/philip/Files/Keyword_spot/train/silence/yes_190821dc_nohash_3.wav\n",
      "/home/philip/Files/Keyword_spot/train/silence/yes_36050ef3_nohash_1.wav\n",
      "/home/philip/Files/Keyword_spot/train/silence/yes_3f2b358d_nohash_1.wav\n",
      "/home/philip/Files/Keyword_spot/train/silence/yes_a6d586b7_nohash_1.wav\n",
      "/home/philip/Files/Keyword_spot/train/silence/yes_a6d586b7_nohash_3.wav\n",
      "/home/philip/Files/Keyword_spot/train/silence/yes_b959cd0c_nohash_1.wav\n",
      "/home/philip/Files/Keyword_spot/train/silence/yes_b959cd0c_nohash_3.wav\n",
      "/home/philip/Files/Keyword_spot/train/silence/yes_ced835d3_nohash_3.wav\n",
      "/home/philip/Files/Keyword_spot/train/silence/yes_ced835d3_nohash_4.wav\n",
      "/home/philip/Files/Keyword_spot/train/silence/yes_d197e3ae_nohash_0.wav\n",
      "/home/philip/Files/Keyword_spot/train/silence/yes_e96a5020_nohash_0.wav\n",
      "/home/philip/Files/Keyword_spot/train/silence/yes_e96a5020_nohash_1.wav\n",
      "/home/philip/Files/Keyword_spot/train/silence/yes_fd395b74_nohash_2.wav\n",
      "/home/philip/Files/Keyword_spot/train/silence/zero_179a61b7_nohash_1.wav\n",
      "/home/philip/Files/Keyword_spot/train/silence/zero_39999a0f_nohash_0.wav\n",
      "/home/philip/Files/Keyword_spot/train/silence/zero_3f2b358d_nohash_0.wav\n",
      "/home/philip/Files/Keyword_spot/train/silence/zero_742d6431_nohash_0.wav\n",
      "/home/philip/Files/Keyword_spot/train/silence/zero_742d6431_nohash_4.wav\n",
      "/home/philip/Files/Keyword_spot/train/silence/zero_7cf14c54_nohash_1.wav\n",
      "/home/philip/Files/Keyword_spot/train/silence/zero_8eb4a1bf_nohash_1.wav\n",
      "/home/philip/Files/Keyword_spot/train/silence/zero_d90b4138_nohash_2.wav\n"
     ]
    }
   ],
   "source": [
    "move_to_silence(s_list)\n",
    "delete_wrong_label(w_list)"
   ]
  },
  {
   "cell_type": "code",
   "execution_count": 7,
   "metadata": {
    "collapsed": true
   },
   "outputs": [],
   "source": [
    "load_audio = True"
   ]
  },
  {
   "cell_type": "code",
   "execution_count": null,
   "metadata": {
    "collapsed": true
   },
   "outputs": [],
   "source": []
  }
 ],
 "metadata": {
  "kernelspec": {
   "display_name": "Python 3",
   "language": "python",
   "name": "python3"
  },
  "language_info": {
   "codemirror_mode": {
    "name": "ipython",
    "version": 3
   },
   "file_extension": ".py",
   "mimetype": "text/x-python",
   "name": "python",
   "nbconvert_exporter": "python",
   "pygments_lexer": "ipython3",
   "version": "3.6.2"
  },
  "widgets": {
   "state": {
    "52e72d0bdbb6466488002addbedc15a1": {
     "views": [
      {
       "cell_index": 19
      }
     ]
    }
   },
   "version": "1.2.0"
  }
 },
 "nbformat": 4,
 "nbformat_minor": 2
}
