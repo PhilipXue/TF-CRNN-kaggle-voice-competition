{
 "cells": [
  {
   "cell_type": "code",
   "execution_count": 21,
   "metadata": {},
   "outputs": [],
   "source": [
    "import keras\n",
    "import os\n",
    "import glob\n",
    "import numpy as np"
   ]
  },
  {
   "cell_type": "code",
   "execution_count": null,
   "metadata": {},
   "outputs": [],
   "source": [
    "import tensorflow as tf\n",
    "sess = tf.InteractiveSession()\n",
    "\n",
    "from keras import backend as K\n",
    "K.set_session(sess)"
   ]
  },
  {
   "cell_type": "code",
   "execution_count": 22,
   "metadata": {},
   "outputs": [],
   "source": [
    "data_root = '/home/philip/data/Keyword_spot/'\n",
    "class_indices = {'bed': 0, 'bird': 1, 'cat': 2, 'dog': 3, 'down': 4, 'eight': 5, 'five': 6, 'four': 7, 'go': 8, 'happy': 9, 'house': 10, 'left': 11, 'marvin': 12, 'nine': 13, 'no': 14, 'off': 15, 'on': 16, 'one': 17, 'right': 18, 'seven': 19, 'sheila': 20, 'silence': 21, 'six': 22, 'stop': 23, 'three': 24, 'tree': 25, 'two': 26, 'up': 27, 'wow': 28, 'yes': 29, 'zero': 30}\n",
    "class_indice = list(class_indices.keys())\n",
    "model_folder = os.path.join(data_root,'saved_model','ensemble')"
   ]
  },
  {
   "cell_type": "code",
   "execution_count": 34,
   "metadata": {},
   "outputs": [
    {
     "name": "stdout",
     "output_type": "stream",
     "text": [
      "Found 90618 images belonging to 31 classes.\n"
     ]
    }
   ],
   "source": [
    "from keras.preprocessing.image import ImageDataGenerator\n",
    "folder_name = os.path.join(data_root,'augmented_dataset/augment_all/')\n",
    "IDG = ImageDataGenerator().flow_from_directory(folder_name,class_mode=\"categorical\",\n",
    "                                                     target_size=(128,63),\n",
    "                                                     batch_size=128,\n",
    "                                                     color_mode=\"grayscale\")"
   ]
  },
  {
   "cell_type": "code",
   "execution_count": 35,
   "metadata": {},
   "outputs": [],
   "source": [
    "def eval_model(model):\n",
    "    IDG.reset()\n",
    "    model = keras.models.load_model(path)\n",
    "    a = model.evaluate_generator(IDG, workers=2)\n",
    "#     print(a[1]*100)\n",
    "    print(a)\n",
    "    del model"
   ]
  },
  {
   "cell_type": "code",
   "execution_count": 36,
   "metadata": {},
   "outputs": [
    {
     "name": "stdout",
     "output_type": "stream",
     "text": [
      "Incept_GRU_87.h5\n",
      "[1.406545824704535, 0.69530336138413285]\n",
      "Incept_like_attention_no_RNN_86.h5\n",
      "[2.8392406196489417, 0.52980644022158951]\n",
      "CRNN_87.h5\n",
      "[1.3321853156369619, 0.66877441567111107]\n",
      "Incept_like_86.h5\n",
      "[2.1831029293966471, 0.62718223748771917]\n"
     ]
    }
   ],
   "source": [
    "models_path = glob.glob(data_root+'saved_model/ensemble/*.h5')\n",
    "for path in models_path:\n",
    "    print(os.path.basename(path))\n",
    "    %timeit eval_model(path)\n",
    "#     break"
   ]
  },
  {
   "cell_type": "code",
   "execution_count": null,
   "metadata": {},
   "outputs": [],
   "source": []
  }
 ],
 "metadata": {
  "kernelspec": {
   "display_name": "Python 3",
   "language": "python",
   "name": "python3"
  },
  "language_info": {
   "codemirror_mode": {
    "name": "ipython",
    "version": 3
   },
   "file_extension": ".py",
   "mimetype": "text/x-python",
   "name": "python",
   "nbconvert_exporter": "python",
   "pygments_lexer": "ipython3",
   "version": "3.6.2"
  }
 },
 "nbformat": 4,
 "nbformat_minor": 2
}
