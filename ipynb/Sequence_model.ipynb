{
 "cells": [
  {
   "cell_type": "code",
   "execution_count": null,
   "metadata": {},
   "outputs": [],
   "source": [
    "import librosa\n",
    "import keras\n",
    "from keras.models import Model\n",
    "from keras.layers import Conv2D,MaxPool2D,BatchNormalization,Input,Activation,MaxPool1D,Conv1D\n",
    "from keras.layers import CuDNNGRU as GRU\n",
    "from keras.layers import CuDNNLSTM as LSTM\n",
    "from keras.layers import Reshape, Bidirectional,Flatten,Dense,InputLayer,Permute,Multiply"
   ]
  },
  {
   "cell_type": "code",
   "execution_count": 1,
   "metadata": {},
   "outputs": [],
   "source": [
    "import tensorflow as tf\n",
    "import numpy as np\n",
    "import tqdm\n",
    "import glob\n",
    "import os"
   ]
  },
  {
   "cell_type": "code",
   "execution_count": 2,
   "metadata": {},
   "outputs": [],
   "source": [
    "data_root = \"/home/philip/Files/Keyword_spot/\""
   ]
  },
  {
   "cell_type": "code",
   "execution_count": null,
   "metadata": {},
   "outputs": [],
   "source": [
    "class_indices = {'bed': 0, 'bird': 1, 'cat': 2, 'dog': 3, 'down': 4, 'eight': 5, 'five': 6, 'four': 7, 'go': 8, 'happy': 9, \n",
    "                 'house': 10, 'left': 11, 'marvin': 12, 'nine': 13, 'no': 14, 'off': 15, 'on': 16, 'one': 17, 'right': 18,\n",
    "                 'seven': 19, 'sheila': 20, 'silence': 21, 'six': 22, 'stop': 23, 'three': 24, 'tree': 25, 'two': 26,\n",
    "                 'up': 27, 'wow': 28, 'yes': 29, 'zero': 30}"
   ]
  },
  {
   "cell_type": "code",
   "execution_count": 4,
   "metadata": {},
   "outputs": [],
   "source": [
    "load_audio = True\n",
    "def get_label_from_filename(full_filename):\n",
    "    dirname = os.path.dirname(full_filename)\n",
    "    label = dirname.split(\"/\")[-1]\n",
    "    if label == 'silence_bg':\n",
    "        label ='silence'\n",
    "    label_indice = class_indices[label]\n",
    "    one_hot_encode = keras.utils.to_categorical(label_indice,len(class_indices))\n",
    "    return one_hot_encode\n",
    "def get_sequence_from_file(filename):\n",
    "    y,sr = librosa.load(filename,sr=16000)\n",
    "    if load_audio:\n",
    "        return y\n",
    "    else:\n",
    "        mel = librosa.feature.melspectrogram(y,sr,hop_length=256)\n",
    "        db = librosa.power_to_db(mel, ref=np.min)\n",
    "        return db"
   ]
  },
  {
   "cell_type": "code",
   "execution_count": 7,
   "metadata": {},
   "outputs": [],
   "source": [
    "all_files = glob.glob(data_root+\"train/audio/***/*.wav\") + glob.glob(data_root+\"train/silence/*.wav\") + glob.glob(data_root+\"train/silence_bg/*.wav\")"
   ]
  },
  {
   "cell_type": "code",
   "execution_count": 8,
   "metadata": {},
   "outputs": [],
   "source": [
    "def data_gen():\n",
    "    while True:\n",
    "        for file in all_files:\n",
    "            label = get_label_from_filename(file)\n",
    "            seq = get_sequence_from_file(fuil)\n",
    "            yield seq, label"
   ]
  },
  {
   "cell_type": "code",
   "execution_count": null,
   "metadata": {},
   "outputs": [],
   "source": [
    "attention = False\n",
    "def conv_1d_model(inputs):\n",
    "    x = Conv1D(128,512,padding='same',activation='relu', dilation_rate=4)(inputs)\n",
    "    x = BatchNormalization()(x)\n",
    "    x = MaxPool1D(pool_size=(20),strides=10)(x)\n",
    "    x = Conv1D(256,256,padding='same', activation='relu',dilation_rate=4)(x)\n",
    "    x = BatchNormalization()(x)\n",
    "    x = MaxPool1D(pool_size=(20),strides=10)(x)\n",
    "    x = Bidirectional(LSTM(256,return_sequences=True),merge_mode='ave')(x)\n",
    "    x = Bidirectional(LSTM(256,return_sequences=True),merge_mode='ave')(x)        \n",
    "    if attention:\n",
    "        a = Permute((2,1))(x)\n",
    "        a = Dense(158, activation='softmax',input_dim=(158,))(a)\n",
    "        a = Permute((2,1))(a)\n",
    "        x = Multiply()([x,a])\n",
    "    x = MaxPool1D(158)(x)\n",
    "    o = Flatten()(x)\n",
    "    o = Dense(31,activation='softmax')\n",
    "    return o"
   ]
  },
  {
   "cell_type": "code",
   "execution_count": 9,
   "metadata": {},
   "outputs": [
    {
     "ename": "KeyboardInterrupt",
     "evalue": "",
     "output_type": "error",
     "traceback": [
      "\u001b[0;31m---------------------------------------------------------------------------\u001b[0m",
      "\u001b[0;31mKeyboardInterrupt\u001b[0m                         Traceback (most recent call last)",
      "\u001b[0;32m<ipython-input-9-59712a3a1810>\u001b[0m in \u001b[0;36m<module>\u001b[0;34m()\u001b[0m\n\u001b[0;32m----> 1\u001b[0;31m \u001b[0ma\u001b[0m\u001b[0;34m=\u001b[0m \u001b[0mdata_gen\u001b[0m\u001b[0;34m(\u001b[0m\u001b[0;34m)\u001b[0m\u001b[0;34m.\u001b[0m\u001b[0m__next__\u001b[0m\u001b[0;34m(\u001b[0m\u001b[0;34m)\u001b[0m\u001b[0;34m\u001b[0m\u001b[0m\n\u001b[0m",
      "\u001b[0;32m<ipython-input-8-72004980221a>\u001b[0m in \u001b[0;36mdata_gen\u001b[0;34m()\u001b[0m\n\u001b[1;32m      1\u001b[0m \u001b[0;32mdef\u001b[0m \u001b[0mdata_gen\u001b[0m\u001b[0;34m(\u001b[0m\u001b[0;34m)\u001b[0m\u001b[0;34m:\u001b[0m\u001b[0;34m\u001b[0m\u001b[0m\n\u001b[1;32m      2\u001b[0m     \u001b[0;32mwhile\u001b[0m \u001b[0;32mTrue\u001b[0m\u001b[0;34m:\u001b[0m\u001b[0;34m\u001b[0m\u001b[0m\n\u001b[0;32m----> 3\u001b[0;31m         \u001b[0;32mfor\u001b[0m \u001b[0mfile\u001b[0m \u001b[0;32min\u001b[0m \u001b[0mall_files\u001b[0m\u001b[0;34m:\u001b[0m\u001b[0;34m\u001b[0m\u001b[0m\n\u001b[0m\u001b[1;32m      4\u001b[0m             \u001b[0mlabel\u001b[0m \u001b[0;34m=\u001b[0m \u001b[0mget_label_from_filename\u001b[0m\u001b[0;34m(\u001b[0m\u001b[0mfile\u001b[0m\u001b[0;34m)\u001b[0m\u001b[0;34m\u001b[0m\u001b[0m\n\u001b[1;32m      5\u001b[0m             \u001b[0mseq\u001b[0m \u001b[0;34m=\u001b[0m \u001b[0mget_sequence_from_file\u001b[0m\u001b[0;34m(\u001b[0m\u001b[0mfuil\u001b[0m\u001b[0;34m)\u001b[0m\u001b[0;34m\u001b[0m\u001b[0m\n",
      "\u001b[0;31mKeyboardInterrupt\u001b[0m: "
     ]
    }
   ],
   "source": [
    "input_layer = Input(16000,1)"
   ]
  },
  {
   "cell_type": "code",
   "execution_count": null,
   "metadata": {},
   "outputs": [],
   "source": []
  }
 ],
 "metadata": {
  "kernelspec": {
   "display_name": "Python 3",
   "language": "python",
   "name": "python3"
  },
  "language_info": {
   "codemirror_mode": {
    "name": "ipython",
    "version": 3
   },
   "file_extension": ".py",
   "mimetype": "text/x-python",
   "name": "python",
   "nbconvert_exporter": "python",
   "pygments_lexer": "ipython3",
   "version": "3.6.2"
  }
 },
 "nbformat": 4,
 "nbformat_minor": 2
}
